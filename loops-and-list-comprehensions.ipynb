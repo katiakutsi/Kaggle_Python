{
 "cells": [
  {
   "cell_type": "markdown",
   "id": "5dedbb13",
   "metadata": {
    "papermill": {
     "duration": 0.02644,
     "end_time": "2022-02-21T20:19:50.225170",
     "exception": false,
     "start_time": "2022-02-21T20:19:50.198730",
     "status": "completed"
    },
    "tags": []
   },
   "source": [
    "**This notebook is an exercise in the [Python](https://www.kaggle.com/learn/python) course.  You can reference the tutorial at [this link](https://www.kaggle.com/colinmorris/loops-and-list-comprehensions).**\n",
    "\n",
    "---\n"
   ]
  },
  {
   "cell_type": "markdown",
   "id": "6729d0c9",
   "metadata": {
    "papermill": {
     "duration": 0.024094,
     "end_time": "2022-02-21T20:19:50.274554",
     "exception": false,
     "start_time": "2022-02-21T20:19:50.250460",
     "status": "completed"
    },
    "tags": []
   },
   "source": [
    "With all you've learned, you can start writing much more interesting programs. See if you can solve the problems below.\n",
    "\n",
    "As always, run the setup code below before working on the questions."
   ]
  },
  {
   "cell_type": "code",
   "execution_count": 1,
   "id": "ed72ed0f",
   "metadata": {
    "execution": {
     "iopub.execute_input": "2022-02-21T20:19:50.325926Z",
     "iopub.status.busy": "2022-02-21T20:19:50.324865Z",
     "iopub.status.idle": "2022-02-21T20:19:50.374493Z",
     "shell.execute_reply": "2022-02-21T20:19:50.375318Z",
     "shell.execute_reply.started": "2022-02-20T18:45:23.412044Z"
    },
    "papermill": {
     "duration": 0.077327,
     "end_time": "2022-02-21T20:19:50.375660",
     "exception": false,
     "start_time": "2022-02-21T20:19:50.298333",
     "status": "completed"
    },
    "tags": []
   },
   "outputs": [
    {
     "name": "stdout",
     "output_type": "stream",
     "text": [
      "Setup complete.\n"
     ]
    }
   ],
   "source": [
    "from learntools.core import binder; binder.bind(globals())\n",
    "from learntools.python.ex5 import *\n",
    "print('Setup complete.')"
   ]
  },
  {
   "cell_type": "markdown",
   "id": "33d97f7d",
   "metadata": {
    "papermill": {
     "duration": 0.025642,
     "end_time": "2022-02-21T20:19:50.427800",
     "exception": false,
     "start_time": "2022-02-21T20:19:50.402158",
     "status": "completed"
    },
    "tags": []
   },
   "source": [
    "# 1.\n",
    "\n",
    "Have you ever felt debugging involved a bit of luck? The following program has a bug. Try to identify the bug and fix it."
   ]
  },
  {
   "cell_type": "code",
   "execution_count": 2,
   "id": "3cf9d0e5",
   "metadata": {
    "execution": {
     "iopub.execute_input": "2022-02-21T20:19:50.486094Z",
     "iopub.status.busy": "2022-02-21T20:19:50.485206Z",
     "iopub.status.idle": "2022-02-21T20:19:50.486761Z",
     "shell.execute_reply": "2022-02-21T20:19:50.487416Z",
     "shell.execute_reply.started": "2022-02-20T18:45:23.422177Z"
    },
    "papermill": {
     "duration": 0.033879,
     "end_time": "2022-02-21T20:19:50.487584",
     "exception": false,
     "start_time": "2022-02-21T20:19:50.453705",
     "status": "completed"
    },
    "tags": []
   },
   "outputs": [],
   "source": [
    "def has_lucky_number(nums):\n",
    "    \"\"\"Return whether the given list of numbers is lucky. A lucky list contains\n",
    "    at least one number divisible by 7.\n",
    "    \"\"\"\n",
    "    for num in nums:\n",
    "        if num % 7 == 0:\n",
    "            return True\n",
    "        else:\n",
    "            return False"
   ]
  },
  {
   "cell_type": "markdown",
   "id": "18ae0b08",
   "metadata": {
    "papermill": {
     "duration": 0.025532,
     "end_time": "2022-02-21T20:19:50.539280",
     "exception": false,
     "start_time": "2022-02-21T20:19:50.513748",
     "status": "completed"
    },
    "tags": []
   },
   "source": [
    "Try to identify the bug and fix it in the cell below:"
   ]
  },
  {
   "cell_type": "code",
   "execution_count": 3,
   "id": "046eeaaa",
   "metadata": {
    "execution": {
     "iopub.execute_input": "2022-02-21T20:19:50.595552Z",
     "iopub.status.busy": "2022-02-21T20:19:50.594737Z",
     "iopub.status.idle": "2022-02-21T20:19:50.606521Z",
     "shell.execute_reply": "2022-02-21T20:19:50.607036Z",
     "shell.execute_reply.started": "2022-02-20T18:45:23.435236Z"
    },
    "papermill": {
     "duration": 0.041309,
     "end_time": "2022-02-21T20:19:50.607219",
     "exception": false,
     "start_time": "2022-02-21T20:19:50.565910",
     "status": "completed"
    },
    "tags": []
   },
   "outputs": [
    {
     "data": {
      "application/javascript": [
       "parent.postMessage({\"jupyterEvent\": \"custom.exercise_interaction\", \"data\": {\"outcomeType\": 1, \"valueTowardsCompletion\": 0.25, \"interactionType\": 1, \"questionType\": 2, \"questionId\": \"1_EarlyExitDebugging\", \"learnToolsVersion\": \"0.3.4\", \"failureMessage\": \"\", \"exceptionClass\": \"\", \"trace\": \"\"}}, \"*\")"
      ],
      "text/plain": [
       "<IPython.core.display.Javascript object>"
      ]
     },
     "metadata": {},
     "output_type": "display_data"
    },
    {
     "data": {
      "text/markdown": [
       "<span style=\"color:#33cc33\">Correct:</span> \n",
       "\n",
       "Remember that `return` causes a function to exit immediately. So our original implementation always ran for just one iteration. We can only return `False` if we've looked at every element of the list (and confirmed that none of them are lucky). Though we can return early if the answer is `True`:\n",
       "\n",
       "```python\n",
       "def has_lucky_number(nums):\n",
       "    for num in nums:\n",
       "        if num % 7 == 0:\n",
       "            return True\n",
       "    # We've exhausted the list without finding a lucky number\n",
       "    return False\n",
       "```\n",
       "\n",
       "Here's a one-line version using a list comprehension with Python's `any` function (you can read about what it does by calling `help(any)`):\n",
       "\n",
       "```python\n",
       "def has_lucky_number(nums):\n",
       "    return any([num % 7 == 0 for num in nums])\n",
       "```\n"
      ],
      "text/plain": [
       "Correct: \n",
       "\n",
       "Remember that `return` causes a function to exit immediately. So our original implementation always ran for just one iteration. We can only return `False` if we've looked at every element of the list (and confirmed that none of them are lucky). Though we can return early if the answer is `True`:\n",
       "\n",
       "```python\n",
       "def has_lucky_number(nums):\n",
       "    for num in nums:\n",
       "        if num % 7 == 0:\n",
       "            return True\n",
       "    # We've exhausted the list without finding a lucky number\n",
       "    return False\n",
       "```\n",
       "\n",
       "Here's a one-line version using a list comprehension with Python's `any` function (you can read about what it does by calling `help(any)`):\n",
       "\n",
       "```python\n",
       "def has_lucky_number(nums):\n",
       "    return any([num % 7 == 0 for num in nums])\n",
       "```"
      ]
     },
     "metadata": {},
     "output_type": "display_data"
    }
   ],
   "source": [
    "def has_lucky_number(nums):\n",
    "    \"\"\"Return whether the given list of numbers is lucky. A lucky list contains\n",
    "    at least one number divisible by 7.\n",
    "    \"\"\"\n",
    "    for num in nums:\n",
    "        if num % 7 == 0:\n",
    "            return True\n",
    "    return False\n",
    "\n",
    "# Check your answer\n",
    "q1.check()"
   ]
  },
  {
   "cell_type": "code",
   "execution_count": 4,
   "id": "e4c9db3c",
   "metadata": {
    "execution": {
     "iopub.execute_input": "2022-02-21T20:19:50.664703Z",
     "iopub.status.busy": "2022-02-21T20:19:50.663913Z",
     "iopub.status.idle": "2022-02-21T20:19:50.668272Z",
     "shell.execute_reply": "2022-02-21T20:19:50.668808Z",
     "shell.execute_reply.started": "2022-02-20T18:45:23.459708Z"
    },
    "papermill": {
     "duration": 0.03496,
     "end_time": "2022-02-21T20:19:50.668979",
     "exception": false,
     "start_time": "2022-02-21T20:19:50.634019",
     "status": "completed"
    },
    "tags": []
   },
   "outputs": [],
   "source": [
    "#q1.hint()\n",
    "#q1.solution()"
   ]
  },
  {
   "cell_type": "markdown",
   "id": "c9a1df47",
   "metadata": {
    "papermill": {
     "duration": 0.026159,
     "end_time": "2022-02-21T20:19:50.721869",
     "exception": false,
     "start_time": "2022-02-21T20:19:50.695710",
     "status": "completed"
    },
    "tags": []
   },
   "source": [
    "# 2.\n",
    "Look at the Python expression below. What do you think we'll get when we run it? When you've made your prediction, uncomment the code and run the cell to see if you were right."
   ]
  },
  {
   "cell_type": "code",
   "execution_count": 5,
   "id": "bc9f138e",
   "metadata": {
    "execution": {
     "iopub.execute_input": "2022-02-21T20:19:50.778547Z",
     "iopub.status.busy": "2022-02-21T20:19:50.777705Z",
     "iopub.status.idle": "2022-02-21T20:19:50.780745Z",
     "shell.execute_reply": "2022-02-21T20:19:50.781220Z",
     "shell.execute_reply.started": "2022-02-20T18:45:23.469633Z"
    },
    "papermill": {
     "duration": 0.032852,
     "end_time": "2022-02-21T20:19:50.781376",
     "exception": false,
     "start_time": "2022-02-21T20:19:50.748524",
     "status": "completed"
    },
    "tags": []
   },
   "outputs": [],
   "source": [
    "#[1, 2, 3, 4] > 2"
   ]
  },
  {
   "cell_type": "markdown",
   "id": "31456d66",
   "metadata": {
    "papermill": {
     "duration": 0.028395,
     "end_time": "2022-02-21T20:19:50.836009",
     "exception": false,
     "start_time": "2022-02-21T20:19:50.807614",
     "status": "completed"
    },
    "tags": []
   },
   "source": [
    "R and Python have some libraries (like numpy and pandas) compare each element of the list to 2 (i.e. do an 'element-wise' comparison) and give us a list of booleans like `[False, False, True, True]`. \n",
    "\n",
    "Implement a function that reproduces this behaviour, returning a list of booleans corresponding to whether the corresponding element is greater than n."
   ]
  },
  {
   "cell_type": "code",
   "execution_count": 6,
   "id": "ba53d0e3",
   "metadata": {
    "execution": {
     "iopub.execute_input": "2022-02-21T20:19:50.892507Z",
     "iopub.status.busy": "2022-02-21T20:19:50.891716Z",
     "iopub.status.idle": "2022-02-21T20:19:50.901802Z",
     "shell.execute_reply": "2022-02-21T20:19:50.902330Z",
     "shell.execute_reply.started": "2022-02-20T18:45:23.480948Z"
    },
    "papermill": {
     "duration": 0.040051,
     "end_time": "2022-02-21T20:19:50.902492",
     "exception": false,
     "start_time": "2022-02-21T20:19:50.862441",
     "status": "completed"
    },
    "tags": []
   },
   "outputs": [
    {
     "data": {
      "application/javascript": [
       "parent.postMessage({\"jupyterEvent\": \"custom.exercise_interaction\", \"data\": {\"outcomeType\": 1, \"valueTowardsCompletion\": 0.25, \"interactionType\": 1, \"questionType\": 2, \"questionId\": \"2_ElementWiseComparison\", \"learnToolsVersion\": \"0.3.4\", \"failureMessage\": \"\", \"exceptionClass\": \"\", \"trace\": \"\"}}, \"*\")"
      ],
      "text/plain": [
       "<IPython.core.display.Javascript object>"
      ]
     },
     "metadata": {},
     "output_type": "display_data"
    },
    {
     "data": {
      "text/markdown": [
       "<span style=\"color:#33cc33\">Correct:</span> \n",
       "\n",
       "Here's one solution:\n",
       "```python\n",
       "def elementwise_greater_than(L, thresh):\n",
       "    res = []\n",
       "    for ele in L:\n",
       "        res.append(ele > thresh)\n",
       "    return res\n",
       "```\n",
       "\n",
       "And here's the list comprehension version:\n",
       "```python\n",
       "def elementwise_greater_than(L, thresh):\n",
       "    return [ele > thresh for ele in L]\n",
       "```\n"
      ],
      "text/plain": [
       "Correct: \n",
       "\n",
       "Here's one solution:\n",
       "```python\n",
       "def elementwise_greater_than(L, thresh):\n",
       "    res = []\n",
       "    for ele in L:\n",
       "        res.append(ele > thresh)\n",
       "    return res\n",
       "```\n",
       "\n",
       "And here's the list comprehension version:\n",
       "```python\n",
       "def elementwise_greater_than(L, thresh):\n",
       "    return [ele > thresh for ele in L]\n",
       "```"
      ]
     },
     "metadata": {},
     "output_type": "display_data"
    }
   ],
   "source": [
    "def elementwise_greater_than(L, thresh):\n",
    "    \"\"\"Return a list with the same length as L, where the value at index i is \n",
    "    True if L[i] is greater than thresh, and False otherwise.\n",
    "    \n",
    "    >>> elementwise_greater_than([1, 2, 3, 4], 2)\n",
    "    [False, False, True, True]\n",
    "    \"\"\"\n",
    "    \n",
    "    new_list = []\n",
    "    for i in L:\n",
    "        if i > thresh:\n",
    "            new_list.append(True)\n",
    "        else:\n",
    "            new_list.append(False)  \n",
    "            \n",
    "    return new_list\n",
    "\n",
    "# Check your answer\n",
    "q2.check()"
   ]
  },
  {
   "cell_type": "code",
   "execution_count": 7,
   "id": "53427d0a",
   "metadata": {
    "execution": {
     "iopub.execute_input": "2022-02-21T20:19:50.962554Z",
     "iopub.status.busy": "2022-02-21T20:19:50.961680Z",
     "iopub.status.idle": "2022-02-21T20:19:50.967024Z",
     "shell.execute_reply": "2022-02-21T20:19:50.966343Z",
     "shell.execute_reply.started": "2022-02-20T18:45:23.501452Z"
    },
    "papermill": {
     "duration": 0.036359,
     "end_time": "2022-02-21T20:19:50.967194",
     "exception": false,
     "start_time": "2022-02-21T20:19:50.930835",
     "status": "completed"
    },
    "tags": []
   },
   "outputs": [],
   "source": [
    "#q2.solution()"
   ]
  },
  {
   "cell_type": "markdown",
   "id": "5005d335",
   "metadata": {
    "papermill": {
     "duration": 0.028118,
     "end_time": "2022-02-21T20:19:51.023317",
     "exception": false,
     "start_time": "2022-02-21T20:19:50.995199",
     "status": "completed"
    },
    "tags": []
   },
   "source": [
    "# 3.\n",
    "\n",
    "Complete the body of the function below according to its docstring."
   ]
  },
  {
   "cell_type": "code",
   "execution_count": 8,
   "id": "a1091173",
   "metadata": {
    "execution": {
     "iopub.execute_input": "2022-02-21T20:19:51.086807Z",
     "iopub.status.busy": "2022-02-21T20:19:51.086220Z",
     "iopub.status.idle": "2022-02-21T20:19:51.091611Z",
     "shell.execute_reply": "2022-02-21T20:19:51.092123Z",
     "shell.execute_reply.started": "2022-02-20T18:45:23.511585Z"
    },
    "papermill": {
     "duration": 0.040188,
     "end_time": "2022-02-21T20:19:51.092276",
     "exception": false,
     "start_time": "2022-02-21T20:19:51.052088",
     "status": "completed"
    },
    "tags": []
   },
   "outputs": [
    {
     "data": {
      "application/javascript": [
       "parent.postMessage({\"jupyterEvent\": \"custom.exercise_interaction\", \"data\": {\"outcomeType\": 1, \"valueTowardsCompletion\": 0.25, \"interactionType\": 1, \"questionType\": 2, \"questionId\": \"3_BoringMenu\", \"learnToolsVersion\": \"0.3.4\", \"failureMessage\": \"\", \"exceptionClass\": \"\", \"trace\": \"\"}}, \"*\")"
      ],
      "text/plain": [
       "<IPython.core.display.Javascript object>"
      ]
     },
     "metadata": {},
     "output_type": "display_data"
    },
    {
     "data": {
      "text/markdown": [
       "<span style=\"color:#33cc33\">Correct:</span> \n",
       "\n",
       "\n",
       "\n",
       "```python\n",
       "def menu_is_boring(meals):\n",
       "    # Iterate over all indices of the list, except the last one\n",
       "    for i in range(len(meals)-1):\n",
       "        if meals[i] == meals[i+1]:\n",
       "            return True\n",
       "    return False\n",
       "```\n",
       "\n",
       "The key to our solution is the call to `range`. `range(len(meals))` would give us all the indices of `meals`. If we had used that range, the last iteration of the loop would be comparing the last element to the element after it, which is... `IndexError`! `range(len(meals)-1)` gives us all the indices except the index of the last element.\n",
       "\n",
       "But don't we need to check if `meals` is empty? Turns out that `range(0) == range(-1)` - they're both empty. So if `meals` has length 0 or 1, we just won't do any iterations of our for loop.\n"
      ],
      "text/plain": [
       "Correct: \n",
       "\n",
       "\n",
       "\n",
       "```python\n",
       "def menu_is_boring(meals):\n",
       "    # Iterate over all indices of the list, except the last one\n",
       "    for i in range(len(meals)-1):\n",
       "        if meals[i] == meals[i+1]:\n",
       "            return True\n",
       "    return False\n",
       "```\n",
       "\n",
       "The key to our solution is the call to `range`. `range(len(meals))` would give us all the indices of `meals`. If we had used that range, the last iteration of the loop would be comparing the last element to the element after it, which is... `IndexError`! `range(len(meals)-1)` gives us all the indices except the index of the last element.\n",
       "\n",
       "But don't we need to check if `meals` is empty? Turns out that `range(0) == range(-1)` - they're both empty. So if `meals` has length 0 or 1, we just won't do any iterations of our for loop."
      ]
     },
     "metadata": {},
     "output_type": "display_data"
    }
   ],
   "source": [
    "def menu_is_boring(meals):\n",
    "    \"\"\"Given a list of meals served over some period of time, return True if the\n",
    "    same meal has ever been served two days in a row, and False otherwise.\n",
    "    \"\"\"\n",
    "    for i,j in zip(meals, meals[1:]):\n",
    "        if i == j:\n",
    "            return True\n",
    "    return False\n",
    "\n",
    "# Check your answer\n",
    "q3.check()"
   ]
  },
  {
   "cell_type": "code",
   "execution_count": 9,
   "id": "fe39117c",
   "metadata": {
    "execution": {
     "iopub.execute_input": "2022-02-21T20:19:51.154411Z",
     "iopub.status.busy": "2022-02-21T20:19:51.153708Z",
     "iopub.status.idle": "2022-02-21T20:19:51.161383Z",
     "shell.execute_reply": "2022-02-21T20:19:51.161895Z",
     "shell.execute_reply.started": "2022-02-20T18:45:23.530732Z"
    },
    "papermill": {
     "duration": 0.040836,
     "end_time": "2022-02-21T20:19:51.162116",
     "exception": false,
     "start_time": "2022-02-21T20:19:51.121280",
     "status": "completed"
    },
    "tags": []
   },
   "outputs": [
    {
     "data": {
      "application/javascript": [
       "parent.postMessage({\"jupyterEvent\": \"custom.exercise_interaction\", \"data\": {\"interactionType\": 2, \"questionType\": 2, \"questionId\": \"3_BoringMenu\", \"learnToolsVersion\": \"0.3.4\", \"valueTowardsCompletion\": 0.0, \"failureMessage\": \"\", \"exceptionClass\": \"\", \"trace\": \"\", \"outcomeType\": 4}}, \"*\")"
      ],
      "text/plain": [
       "<IPython.core.display.Javascript object>"
      ]
     },
     "metadata": {},
     "output_type": "display_data"
    },
    {
     "data": {
      "text/markdown": [
       "<span style=\"color:#3366cc\">Hint:</span> This is a case where it may be preferable to iterate over the *indices* of the list (using a call to `range()`) rather than iterating over the elements of the list itself. When indexing into the list, be mindful that you're not \"falling off the end\" (i.e. using an index that doesn't exist)."
      ],
      "text/plain": [
       "Hint: This is a case where it may be preferable to iterate over the *indices* of the list (using a call to `range()`) rather than iterating over the elements of the list itself. When indexing into the list, be mindful that you're not \"falling off the end\" (i.e. using an index that doesn't exist)."
      ]
     },
     "metadata": {},
     "output_type": "display_data"
    }
   ],
   "source": [
    "q3.hint()\n",
    "#q3.solution()"
   ]
  },
  {
   "cell_type": "markdown",
   "id": "a788bd00",
   "metadata": {
    "papermill": {
     "duration": 0.030941,
     "end_time": "2022-02-21T20:19:51.224395",
     "exception": false,
     "start_time": "2022-02-21T20:19:51.193454",
     "status": "completed"
    },
    "tags": []
   },
   "source": [
    "# 4. <span title=\"A bit spicy\" style=\"color: darkgreen \">🌶️</span>\n",
    "\n",
    "Next to the Blackjack table, the Python Challenge Casino has a slot machine. You can get a result from the slot machine by calling `play_slot_machine()`. The number it returns is your winnings in dollars. Usually it returns 0.  But sometimes you'll get lucky and get a big payday. Try running it below:"
   ]
  },
  {
   "cell_type": "code",
   "execution_count": 10,
   "id": "4945c33a",
   "metadata": {
    "execution": {
     "iopub.execute_input": "2022-02-21T20:19:51.290790Z",
     "iopub.status.busy": "2022-02-21T20:19:51.290208Z",
     "iopub.status.idle": "2022-02-21T20:19:51.295857Z",
     "shell.execute_reply": "2022-02-21T20:19:51.296442Z",
     "shell.execute_reply.started": "2022-02-20T19:18:10.058904Z"
    },
    "papermill": {
     "duration": 0.04027,
     "end_time": "2022-02-21T20:19:51.296624",
     "exception": false,
     "start_time": "2022-02-21T20:19:51.256354",
     "status": "completed"
    },
    "tags": []
   },
   "outputs": [
    {
     "data": {
      "text/plain": [
       "0"
      ]
     },
     "execution_count": 10,
     "metadata": {},
     "output_type": "execute_result"
    }
   ],
   "source": [
    "play_slot_machine()"
   ]
  },
  {
   "cell_type": "markdown",
   "id": "a126c808",
   "metadata": {
    "papermill": {
     "duration": 0.032185,
     "end_time": "2022-02-21T20:19:51.361836",
     "exception": false,
     "start_time": "2022-02-21T20:19:51.329651",
     "status": "completed"
    },
    "tags": []
   },
   "source": [
    "By the way, did we mention that each play costs $1? Don't worry, we'll send you the bill later.\n",
    "\n",
    "On average, how much money can you expect to gain (or lose) every time you play the machine?  The casino keeps it a secret, but you can estimate the average value of each pull using a technique called the **Monte Carlo method**. To estimate the average outcome, we simulate the scenario many times, and return the average result.\n",
    "\n",
    "Complete the following function to calculate the average value per play of the slot machine."
   ]
  },
  {
   "cell_type": "code",
   "execution_count": 11,
   "id": "cae3d7f6",
   "metadata": {
    "execution": {
     "iopub.execute_input": "2022-02-21T20:19:51.432717Z",
     "iopub.status.busy": "2022-02-21T20:19:51.432025Z",
     "iopub.status.idle": "2022-02-21T20:19:51.433412Z",
     "shell.execute_reply": "2022-02-21T20:19:51.433907Z",
     "shell.execute_reply.started": "2022-02-20T19:27:00.331644Z"
    },
    "papermill": {
     "duration": 0.040015,
     "end_time": "2022-02-21T20:19:51.434100",
     "exception": false,
     "start_time": "2022-02-21T20:19:51.394085",
     "status": "completed"
    },
    "tags": []
   },
   "outputs": [],
   "source": [
    "def estimate_average_slot_payout(n_runs):\n",
    "    \"\"\"Run the slot machine n_runs times and return the average net profit per run.\n",
    "    Example calls (note that return value is nondeterministic!):\n",
    "    >>> estimate_average_slot_payout(1)\n",
    "    -1\n",
    "    >>> estimate_average_slot_payout(1)\n",
    "    0.5\n",
    "    \"\"\"\n",
    "    summ = []\n",
    "    for i in range(n_runs):\n",
    "        summ.append(play_slot_machine()-1)\n",
    "        return sum(summ)/len(summ) "
   ]
  },
  {
   "cell_type": "markdown",
   "id": "f73c681f",
   "metadata": {
    "papermill": {
     "duration": 0.031169,
     "end_time": "2022-02-21T20:19:51.497146",
     "exception": false,
     "start_time": "2022-02-21T20:19:51.465977",
     "status": "completed"
    },
    "tags": []
   },
   "source": [
    "When you think you know the expected value per spin, run the code cell below to view the solution and get credit for answering the question."
   ]
  },
  {
   "cell_type": "code",
   "execution_count": 12,
   "id": "4ac62e3a",
   "metadata": {
    "execution": {
     "iopub.execute_input": "2022-02-21T20:19:51.563940Z",
     "iopub.status.busy": "2022-02-21T20:19:51.563355Z",
     "iopub.status.idle": "2022-02-21T20:19:51.569637Z",
     "shell.execute_reply": "2022-02-21T20:19:51.570264Z",
     "shell.execute_reply.started": "2022-02-20T19:20:33.190994Z"
    },
    "papermill": {
     "duration": 0.041921,
     "end_time": "2022-02-21T20:19:51.570432",
     "exception": false,
     "start_time": "2022-02-21T20:19:51.528511",
     "status": "completed"
    },
    "tags": []
   },
   "outputs": [
    {
     "data": {
      "application/javascript": [
       "parent.postMessage({\"jupyterEvent\": \"custom.exercise_interaction\", \"data\": {\"interactionType\": 3, \"questionType\": 4, \"questionId\": \"4_ExpectedSlotsPayout\", \"learnToolsVersion\": \"0.3.4\", \"valueTowardsCompletion\": 0.0, \"failureMessage\": \"\", \"exceptionClass\": \"\", \"trace\": \"\", \"outcomeType\": 4}}, \"*\")"
      ],
      "text/plain": [
       "<IPython.core.display.Javascript object>"
      ]
     },
     "metadata": {},
     "output_type": "display_data"
    },
    {
     "data": {
      "text/markdown": [
       "<span style=\"color:#33cc99\">Solution:</span> \n",
       "    \n",
       "The exact expected value of one pull of the slot machine is 0.025 - i.e. a little more than 2 cents.  See?  Not every game in the Python Challenge Casino is rigged against the player!\n",
       "\n",
       "In order to get this answer, you'll need to implement the `estimate_average_slot_payout(n_runs)` function to simulate pulling the slot machine `n_runs` times.  It should return the payout averaged over those `n_runs`.\n",
       "\n",
       "Then, once the function is defined, in order to estimate the average slot payout, we need only call the function.\n",
       "\n",
       "Because of the high variance of the outcome (there are some very rare high payout results that significantly affect the average) you might need to run your function with a very high value of `n_runs` to get a stable answer close to the true expectation.  For instance, you might use a value for `n_runs` of 1000000.\n",
       "\n",
       "Here's an example for how the function could look:\n",
       "```python\n",
       "def estimate_average_slot_payout(n_runs):\n",
       "    # Play slot machine n_runs times, calculate payout of each\n",
       "    payouts = [play_slot_machine()-1 for i in range(n_runs)]\n",
       "    # Calculate the average value\n",
       "    avg_payout = sum(payouts) / n_runs\n",
       "    return avg_payout\n",
       "    \n",
       "estimate_average_slot_payout(10000000)\n",
       "\n",
       "```\n",
       "\n",
       "This should return an answer close to 0.025!\n",
       "            \n"
      ],
      "text/plain": [
       "Solution: \n",
       "    \n",
       "The exact expected value of one pull of the slot machine is 0.025 - i.e. a little more than 2 cents.  See?  Not every game in the Python Challenge Casino is rigged against the player!\n",
       "\n",
       "In order to get this answer, you'll need to implement the `estimate_average_slot_payout(n_runs)` function to simulate pulling the slot machine `n_runs` times.  It should return the payout averaged over those `n_runs`.\n",
       "\n",
       "Then, once the function is defined, in order to estimate the average slot payout, we need only call the function.\n",
       "\n",
       "Because of the high variance of the outcome (there are some very rare high payout results that significantly affect the average) you might need to run your function with a very high value of `n_runs` to get a stable answer close to the true expectation.  For instance, you might use a value for `n_runs` of 1000000.\n",
       "\n",
       "Here's an example for how the function could look:\n",
       "```python\n",
       "def estimate_average_slot_payout(n_runs):\n",
       "    # Play slot machine n_runs times, calculate payout of each\n",
       "    payouts = [play_slot_machine()-1 for i in range(n_runs)]\n",
       "    # Calculate the average value\n",
       "    avg_payout = sum(payouts) / n_runs\n",
       "    return avg_payout\n",
       "    \n",
       "estimate_average_slot_payout(10000000)\n",
       "\n",
       "```\n",
       "\n",
       "This should return an answer close to 0.025!\n",
       "            "
      ]
     },
     "metadata": {},
     "output_type": "display_data"
    }
   ],
   "source": [
    "# Check your answer (Run this code cell to receive credit!)\n",
    "q4.solution()"
   ]
  },
  {
   "cell_type": "markdown",
   "id": "17cd3100",
   "metadata": {
    "papermill": {
     "duration": 0.033528,
     "end_time": "2022-02-21T20:19:51.637109",
     "exception": false,
     "start_time": "2022-02-21T20:19:51.603581",
     "status": "completed"
    },
    "tags": []
   },
   "source": [
    "# Keep Going\n",
    "\n",
    "Many programmers report that dictionaries are their favorite data structure. You'll get to **[learn about them](https://www.kaggle.com/colinmorris/strings-and-dictionaries)** (as well as strings) in the next lesson."
   ]
  },
  {
   "cell_type": "markdown",
   "id": "b155fa3e",
   "metadata": {
    "papermill": {
     "duration": 0.033206,
     "end_time": "2022-02-21T20:19:51.704571",
     "exception": false,
     "start_time": "2022-02-21T20:19:51.671365",
     "status": "completed"
    },
    "tags": []
   },
   "source": [
    "---\n",
    "\n",
    "\n",
    "\n",
    "\n",
    "*Have questions or comments? Visit the [course discussion forum](https://www.kaggle.com/learn/python/discussion) to chat with other learners.*"
   ]
  }
 ],
 "metadata": {
  "kernelspec": {
   "display_name": "Python 3",
   "language": "python",
   "name": "python3"
  },
  "language_info": {
   "codemirror_mode": {
    "name": "ipython",
    "version": 3
   },
   "file_extension": ".py",
   "mimetype": "text/x-python",
   "name": "python",
   "nbconvert_exporter": "python",
   "pygments_lexer": "ipython3",
   "version": "3.7.12"
  },
  "papermill": {
   "default_parameters": {},
   "duration": 14.079422,
   "end_time": "2022-02-21T20:19:52.547854",
   "environment_variables": {},
   "exception": null,
   "input_path": "__notebook__.ipynb",
   "output_path": "__notebook__.ipynb",
   "parameters": {},
   "start_time": "2022-02-21T20:19:38.468432",
   "version": "2.3.3"
  }
 },
 "nbformat": 4,
 "nbformat_minor": 5
}
