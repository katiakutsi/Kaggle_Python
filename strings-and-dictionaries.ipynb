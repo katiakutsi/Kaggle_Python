{
 "cells": [
  {
   "cell_type": "markdown",
   "id": "05bf5fb4",
   "metadata": {
    "papermill": {
     "duration": 0.015674,
     "end_time": "2022-02-21T20:20:15.793577",
     "exception": false,
     "start_time": "2022-02-21T20:20:15.777903",
     "status": "completed"
    },
    "tags": []
   },
   "source": [
    "**This notebook is an exercise in the [Python](https://www.kaggle.com/learn/python) course.  You can reference the tutorial at [this link](https://www.kaggle.com/colinmorris/strings-and-dictionaries).**\n",
    "\n",
    "---\n"
   ]
  },
  {
   "cell_type": "markdown",
   "id": "9a1f0c94",
   "metadata": {
    "papermill": {
     "duration": 0.014225,
     "end_time": "2022-02-21T20:20:15.822577",
     "exception": false,
     "start_time": "2022-02-21T20:20:15.808352",
     "status": "completed"
    },
    "tags": []
   },
   "source": [
    "You are almost done with the course. Nice job!\n",
    "\n",
    "We have a couple more interesting problems for you before you go. \n",
    "\n",
    "As always, run the setup code below before working on the questions."
   ]
  },
  {
   "cell_type": "code",
   "execution_count": 1,
   "id": "e5e364b6",
   "metadata": {
    "execution": {
     "iopub.execute_input": "2022-02-21T20:20:15.859252Z",
     "iopub.status.busy": "2022-02-21T20:20:15.858688Z",
     "iopub.status.idle": "2022-02-21T20:20:15.899012Z",
     "shell.execute_reply": "2022-02-21T20:20:15.898070Z",
     "shell.execute_reply.started": "2022-02-20T12:01:06.707417Z"
    },
    "papermill": {
     "duration": 0.062303,
     "end_time": "2022-02-21T20:20:15.899209",
     "exception": false,
     "start_time": "2022-02-21T20:20:15.836906",
     "status": "completed"
    },
    "tags": []
   },
   "outputs": [
    {
     "name": "stdout",
     "output_type": "stream",
     "text": [
      "Setup complete.\n"
     ]
    }
   ],
   "source": [
    "from learntools.core import binder; binder.bind(globals())\n",
    "from learntools.python.ex6 import *\n",
    "print('Setup complete.')"
   ]
  },
  {
   "cell_type": "markdown",
   "id": "cefe41a8",
   "metadata": {
    "papermill": {
     "duration": 0.014586,
     "end_time": "2022-02-21T20:20:15.929640",
     "exception": false,
     "start_time": "2022-02-21T20:20:15.915054",
     "status": "completed"
    },
    "tags": []
   },
   "source": [
    "Let's start with a string lightning round to warm up. What are the lengths of the strings below?\n",
    "\n",
    "For each of the five strings below, predict what `len()` would return when passed that string. Use the variable `length` to record your answer, then run the cell to check whether you were right.  \n",
    "\n",
    "# 0a."
   ]
  },
  {
   "cell_type": "code",
   "execution_count": 2,
   "id": "2fa1f93f",
   "metadata": {
    "execution": {
     "iopub.execute_input": "2022-02-21T20:20:15.966199Z",
     "iopub.status.busy": "2022-02-21T20:20:15.965595Z",
     "iopub.status.idle": "2022-02-21T20:20:15.969899Z",
     "shell.execute_reply": "2022-02-21T20:20:15.969418Z",
     "shell.execute_reply.started": "2022-02-20T12:01:06.713235Z"
    },
    "papermill": {
     "duration": 0.025639,
     "end_time": "2022-02-21T20:20:15.970034",
     "exception": false,
     "start_time": "2022-02-21T20:20:15.944395",
     "status": "completed"
    },
    "tags": []
   },
   "outputs": [
    {
     "data": {
      "application/javascript": [
       "parent.postMessage({\"jupyterEvent\": \"custom.exercise_interaction\", \"data\": {\"outcomeType\": 1, \"valueTowardsCompletion\": 0.3333333333333333, \"interactionType\": 1, \"questionType\": 1, \"questionId\": \"0.1_ZA\", \"learnToolsVersion\": \"0.3.4\", \"failureMessage\": \"\", \"exceptionClass\": \"\", \"trace\": \"\"}}, \"*\")"
      ],
      "text/plain": [
       "<IPython.core.display.Javascript object>"
      ]
     },
     "metadata": {},
     "output_type": "display_data"
    },
    {
     "data": {
      "text/markdown": [
       "<span style=\"color:#33cc33\">Correct:</span> \n",
       "\n",
       "The empty string has length zero. Note that the empty string is also the only string that Python considers as False when converting to boolean."
      ],
      "text/plain": [
       "Correct: \n",
       "\n",
       "The empty string has length zero. Note that the empty string is also the only string that Python considers as False when converting to boolean."
      ]
     },
     "metadata": {},
     "output_type": "display_data"
    }
   ],
   "source": [
    "a = \"\"\n",
    "length = 0\n",
    "q0.a.check()"
   ]
  },
  {
   "cell_type": "markdown",
   "id": "320822f4",
   "metadata": {
    "papermill": {
     "duration": 0.015502,
     "end_time": "2022-02-21T20:20:16.001348",
     "exception": false,
     "start_time": "2022-02-21T20:20:15.985846",
     "status": "completed"
    },
    "tags": []
   },
   "source": [
    "# 0b."
   ]
  },
  {
   "cell_type": "code",
   "execution_count": 3,
   "id": "8b11ee38",
   "metadata": {
    "execution": {
     "iopub.execute_input": "2022-02-21T20:20:16.035872Z",
     "iopub.status.busy": "2022-02-21T20:20:16.035270Z",
     "iopub.status.idle": "2022-02-21T20:20:16.040498Z",
     "shell.execute_reply": "2022-02-21T20:20:16.040946Z",
     "shell.execute_reply.started": "2022-02-20T12:01:06.73045Z"
    },
    "papermill": {
     "duration": 0.024011,
     "end_time": "2022-02-21T20:20:16.041106",
     "exception": false,
     "start_time": "2022-02-21T20:20:16.017095",
     "status": "completed"
    },
    "tags": []
   },
   "outputs": [
    {
     "data": {
      "application/javascript": [
       "parent.postMessage({\"jupyterEvent\": \"custom.exercise_interaction\", \"data\": {\"outcomeType\": 1, \"valueTowardsCompletion\": 0.3333333333333333, \"interactionType\": 1, \"questionType\": 1, \"questionId\": \"0.2_ZB\", \"learnToolsVersion\": \"0.3.4\", \"failureMessage\": \"\", \"exceptionClass\": \"\", \"trace\": \"\"}}, \"*\")"
      ],
      "text/plain": [
       "<IPython.core.display.Javascript object>"
      ]
     },
     "metadata": {},
     "output_type": "display_data"
    },
    {
     "data": {
      "text/markdown": [
       "<span style=\"color:#33cc33\">Correct:</span> \n",
       "\n",
       "Keep in mind Python includes spaces (and punctuation) when counting string length."
      ],
      "text/plain": [
       "Correct: \n",
       "\n",
       "Keep in mind Python includes spaces (and punctuation) when counting string length."
      ]
     },
     "metadata": {},
     "output_type": "display_data"
    }
   ],
   "source": [
    "b = \"it's ok\"\n",
    "length = 7\n",
    "q0.b.check()"
   ]
  },
  {
   "cell_type": "markdown",
   "id": "266712d2",
   "metadata": {
    "papermill": {
     "duration": 0.016474,
     "end_time": "2022-02-21T20:20:16.074452",
     "exception": false,
     "start_time": "2022-02-21T20:20:16.057978",
     "status": "completed"
    },
    "tags": []
   },
   "source": [
    "# 0c."
   ]
  },
  {
   "cell_type": "code",
   "execution_count": 4,
   "id": "c0351337",
   "metadata": {
    "execution": {
     "iopub.execute_input": "2022-02-21T20:20:16.110980Z",
     "iopub.status.busy": "2022-02-21T20:20:16.110388Z",
     "iopub.status.idle": "2022-02-21T20:20:16.115716Z",
     "shell.execute_reply": "2022-02-21T20:20:16.116102Z",
     "shell.execute_reply.started": "2022-02-20T12:01:06.741039Z"
    },
    "papermill": {
     "duration": 0.02501,
     "end_time": "2022-02-21T20:20:16.116250",
     "exception": false,
     "start_time": "2022-02-21T20:20:16.091240",
     "status": "completed"
    },
    "tags": []
   },
   "outputs": [
    {
     "data": {
      "application/javascript": [
       "parent.postMessage({\"jupyterEvent\": \"custom.exercise_interaction\", \"data\": {\"outcomeType\": 1, \"valueTowardsCompletion\": 0.3333333333333333, \"interactionType\": 1, \"questionType\": 1, \"questionId\": \"0.3_ZC\", \"learnToolsVersion\": \"0.3.4\", \"failureMessage\": \"\", \"exceptionClass\": \"\", \"trace\": \"\"}}, \"*\")"
      ],
      "text/plain": [
       "<IPython.core.display.Javascript object>"
      ]
     },
     "metadata": {},
     "output_type": "display_data"
    },
    {
     "data": {
      "text/markdown": [
       "<span style=\"color:#33cc33\">Correct:</span> \n",
       "\n",
       "Even though we use different syntax to create it, the string `c` is identical to `b`. In particular, note that the backslash is not part of the string, so it doesn't contribute to its length."
      ],
      "text/plain": [
       "Correct: \n",
       "\n",
       "Even though we use different syntax to create it, the string `c` is identical to `b`. In particular, note that the backslash is not part of the string, so it doesn't contribute to its length."
      ]
     },
     "metadata": {},
     "output_type": "display_data"
    }
   ],
   "source": [
    "c = 'it\\'s ok'\n",
    "length = 7\n",
    "q0.c.check()"
   ]
  },
  {
   "cell_type": "markdown",
   "id": "183eda0d",
   "metadata": {
    "papermill": {
     "duration": 0.017335,
     "end_time": "2022-02-21T20:20:16.151262",
     "exception": false,
     "start_time": "2022-02-21T20:20:16.133927",
     "status": "completed"
    },
    "tags": []
   },
   "source": [
    "# 0d."
   ]
  },
  {
   "cell_type": "code",
   "execution_count": 5,
   "id": "38554e36",
   "metadata": {
    "execution": {
     "iopub.execute_input": "2022-02-21T20:20:16.191046Z",
     "iopub.status.busy": "2022-02-21T20:20:16.190414Z",
     "iopub.status.idle": "2022-02-21T20:20:16.195811Z",
     "shell.execute_reply": "2022-02-21T20:20:16.196234Z",
     "shell.execute_reply.started": "2022-02-20T12:01:06.75333Z"
    },
    "papermill": {
     "duration": 0.027499,
     "end_time": "2022-02-21T20:20:16.196377",
     "exception": false,
     "start_time": "2022-02-21T20:20:16.168878",
     "status": "completed"
    },
    "tags": []
   },
   "outputs": [
    {
     "data": {
      "application/javascript": [
       "parent.postMessage({\"jupyterEvent\": \"custom.exercise_interaction\", \"data\": {\"outcomeType\": 1, \"valueTowardsCompletion\": 0.3333333333333333, \"interactionType\": 1, \"questionType\": 1, \"questionId\": \"0.4_ZD\", \"learnToolsVersion\": \"0.3.4\", \"failureMessage\": \"\", \"exceptionClass\": \"\", \"trace\": \"\"}}, \"*\")"
      ],
      "text/plain": [
       "<IPython.core.display.Javascript object>"
      ]
     },
     "metadata": {},
     "output_type": "display_data"
    },
    {
     "data": {
      "text/markdown": [
       "<span style=\"color:#33cc33\">Correct:</span> \n",
       "\n",
       "The fact that this string was created using triple-quote syntax doesn't make any difference in terms of its content or length. This string is exactly the same as `'hey'`."
      ],
      "text/plain": [
       "Correct: \n",
       "\n",
       "The fact that this string was created using triple-quote syntax doesn't make any difference in terms of its content or length. This string is exactly the same as `'hey'`."
      ]
     },
     "metadata": {},
     "output_type": "display_data"
    }
   ],
   "source": [
    "d = \"\"\"hey\"\"\"\n",
    "length = 3\n",
    "q0.d.check()"
   ]
  },
  {
   "cell_type": "markdown",
   "id": "2a9568d6",
   "metadata": {
    "papermill": {
     "duration": 0.01844,
     "end_time": "2022-02-21T20:20:16.233459",
     "exception": false,
     "start_time": "2022-02-21T20:20:16.215019",
     "status": "completed"
    },
    "tags": []
   },
   "source": [
    "# 0e."
   ]
  },
  {
   "cell_type": "code",
   "execution_count": 6,
   "id": "b28c6e7d",
   "metadata": {
    "execution": {
     "iopub.execute_input": "2022-02-21T20:20:16.273229Z",
     "iopub.status.busy": "2022-02-21T20:20:16.272666Z",
     "iopub.status.idle": "2022-02-21T20:20:16.277569Z",
     "shell.execute_reply": "2022-02-21T20:20:16.278011Z",
     "shell.execute_reply.started": "2022-02-20T12:01:06.763846Z"
    },
    "papermill": {
     "duration": 0.026276,
     "end_time": "2022-02-21T20:20:16.278160",
     "exception": false,
     "start_time": "2022-02-21T20:20:16.251884",
     "status": "completed"
    },
    "tags": []
   },
   "outputs": [
    {
     "data": {
      "application/javascript": [
       "parent.postMessage({\"jupyterEvent\": \"custom.exercise_interaction\", \"data\": {\"outcomeType\": 1, \"valueTowardsCompletion\": 0.3333333333333333, \"interactionType\": 1, \"questionType\": 1, \"questionId\": \"0.5_ZE\", \"learnToolsVersion\": \"0.3.4\", \"failureMessage\": \"\", \"exceptionClass\": \"\", \"trace\": \"\"}}, \"*\")"
      ],
      "text/plain": [
       "<IPython.core.display.Javascript object>"
      ]
     },
     "metadata": {},
     "output_type": "display_data"
    },
    {
     "data": {
      "text/markdown": [
       "<span style=\"color:#33cc33\">Correct:</span> \n",
       "\n",
       "The newline character is just a single character! (Even though we represent it to Python using a combination of two characters.)"
      ],
      "text/plain": [
       "Correct: \n",
       "\n",
       "The newline character is just a single character! (Even though we represent it to Python using a combination of two characters.)"
      ]
     },
     "metadata": {},
     "output_type": "display_data"
    }
   ],
   "source": [
    "e = '\\n'\n",
    "length = 1\n",
    "q0.e.check()"
   ]
  },
  {
   "cell_type": "markdown",
   "id": "f8f64c87",
   "metadata": {
    "papermill": {
     "duration": 0.019659,
     "end_time": "2022-02-21T20:20:16.317500",
     "exception": false,
     "start_time": "2022-02-21T20:20:16.297841",
     "status": "completed"
    },
    "tags": []
   },
   "source": [
    "# 1.\n",
    "\n",
    "There is a saying that \"Data scientists spend 80% of their time cleaning data, and 20% of their time complaining about cleaning data.\" Let's see if you can write a function to help clean US zip code data. Given a string, it should return whether or not that string represents a valid zip code. For our purposes, a valid zip code is any string consisting of exactly 5 digits.\n",
    "\n",
    "HINT: `str` has a method that will be useful here. Use `help(str)` to review a list of string methods."
   ]
  },
  {
   "cell_type": "code",
   "execution_count": 7,
   "id": "5039bad7",
   "metadata": {
    "execution": {
     "iopub.execute_input": "2022-02-21T20:20:16.361469Z",
     "iopub.status.busy": "2022-02-21T20:20:16.360563Z",
     "iopub.status.idle": "2022-02-21T20:20:16.367923Z",
     "shell.execute_reply": "2022-02-21T20:20:16.368390Z",
     "shell.execute_reply.started": "2022-02-20T12:01:06.77415Z"
    },
    "papermill": {
     "duration": 0.03092,
     "end_time": "2022-02-21T20:20:16.368574",
     "exception": false,
     "start_time": "2022-02-21T20:20:16.337654",
     "status": "completed"
    },
    "tags": []
   },
   "outputs": [
    {
     "data": {
      "application/javascript": [
       "parent.postMessage({\"jupyterEvent\": \"custom.exercise_interaction\", \"data\": {\"outcomeType\": 1, \"valueTowardsCompletion\": 0.3333333333333333, \"interactionType\": 1, \"questionType\": 2, \"questionId\": \"1_ZipValidator\", \"learnToolsVersion\": \"0.3.4\", \"failureMessage\": \"\", \"exceptionClass\": \"\", \"trace\": \"\"}}, \"*\")"
      ],
      "text/plain": [
       "<IPython.core.display.Javascript object>"
      ]
     },
     "metadata": {},
     "output_type": "display_data"
    },
    {
     "data": {
      "text/markdown": [
       "<span style=\"color:#33cc33\">Correct</span>"
      ],
      "text/plain": [
       "Correct"
      ]
     },
     "metadata": {},
     "output_type": "display_data"
    }
   ],
   "source": [
    "def is_valid_zip(zip_code):\n",
    "    \"\"\"Returns whether the input string is a valid (5 digit) zip code\n",
    "    \"\"\"\n",
    "    if len(zip_code) == 5:\n",
    "        return zip_code.isdigit()\n",
    "    \n",
    "    return False\n",
    "\n",
    "# Check your answer\n",
    "q1.check()"
   ]
  },
  {
   "cell_type": "code",
   "execution_count": 8,
   "id": "da739631",
   "metadata": {
    "execution": {
     "iopub.execute_input": "2022-02-21T20:20:16.414091Z",
     "iopub.status.busy": "2022-02-21T20:20:16.413179Z",
     "iopub.status.idle": "2022-02-21T20:20:16.415122Z",
     "shell.execute_reply": "2022-02-21T20:20:16.415564Z",
     "shell.execute_reply.started": "2022-02-20T12:01:06.783769Z"
    },
    "papermill": {
     "duration": 0.026744,
     "end_time": "2022-02-21T20:20:16.415724",
     "exception": false,
     "start_time": "2022-02-21T20:20:16.388980",
     "status": "completed"
    },
    "tags": []
   },
   "outputs": [],
   "source": [
    "#q1.hint()\n",
    "#q1.solution()"
   ]
  },
  {
   "cell_type": "markdown",
   "id": "1301441d",
   "metadata": {
    "papermill": {
     "duration": 0.020278,
     "end_time": "2022-02-21T20:20:16.456421",
     "exception": false,
     "start_time": "2022-02-21T20:20:16.436143",
     "status": "completed"
    },
    "tags": []
   },
   "source": [
    "# 2.\n",
    "\n",
    "A researcher has gathered thousands of news articles. But she wants to focus her attention on articles including a specific word. Complete the function below to help her filter her list of articles.\n",
    "\n",
    "Your function should meet the following criteria:\n",
    "\n",
    "- Do not include documents where the keyword string shows up only as a part of a larger word. For example, if she were looking for the keyword “closed”, you would not include the string “enclosed.” \n",
    "- She does not want you to distinguish upper case from lower case letters. So the phrase “Closed the case.” would be included when the keyword is “closed”\n",
    "- Do not let periods or commas affect what is matched. “It is closed.” would be included when the keyword is “closed”. But you can assume there are no other types of punctuation."
   ]
  },
  {
   "cell_type": "code",
   "execution_count": 9,
   "id": "b1293851",
   "metadata": {
    "execution": {
     "iopub.execute_input": "2022-02-21T20:20:16.501036Z",
     "iopub.status.busy": "2022-02-21T20:20:16.500123Z",
     "iopub.status.idle": "2022-02-21T20:20:16.508191Z",
     "shell.execute_reply": "2022-02-21T20:20:16.508654Z",
     "shell.execute_reply.started": "2022-02-20T12:01:06.792093Z"
    },
    "papermill": {
     "duration": 0.031959,
     "end_time": "2022-02-21T20:20:16.508824",
     "exception": false,
     "start_time": "2022-02-21T20:20:16.476865",
     "status": "completed"
    },
    "tags": []
   },
   "outputs": [
    {
     "data": {
      "application/javascript": [
       "parent.postMessage({\"jupyterEvent\": \"custom.exercise_interaction\", \"data\": {\"outcomeType\": 1, \"valueTowardsCompletion\": 0.3333333333333333, \"interactionType\": 1, \"questionType\": 2, \"questionId\": \"2_WordSearch\", \"learnToolsVersion\": \"0.3.4\", \"failureMessage\": \"\", \"exceptionClass\": \"\", \"trace\": \"\"}}, \"*\")"
      ],
      "text/plain": [
       "<IPython.core.display.Javascript object>"
      ]
     },
     "metadata": {},
     "output_type": "display_data"
    },
    {
     "data": {
      "text/markdown": [
       "<span style=\"color:#33cc33\">Correct</span>"
      ],
      "text/plain": [
       "Correct"
      ]
     },
     "metadata": {},
     "output_type": "display_data"
    }
   ],
   "source": [
    "def word_search(doc_list, keyword):\n",
    "    \"\"\"\n",
    "    Takes a list of documents (each document is a string) and a keyword. \n",
    "    Returns list of the index values into the original list for all documents \n",
    "    containing the keyword.\n",
    "\n",
    "    Example:\n",
    "    doc_list = [\"The Learn Python Challenge Casino.\", \"They bought a car\", \"Casinoville\"]\n",
    "    >>> word_search(doc_list, 'casino')\n",
    "    >>> [0]\n",
    "    \"\"\"\n",
    "    \n",
    "    new_list = []\n",
    "    \n",
    "    for (index, i) in enumerate(doc_list):\n",
    "\n",
    "        if keyword.lower() in [splitted.strip(\".,?\").lower() for splitted in i.split()]:\n",
    "            new_list.append(index)\n",
    "\n",
    "    return new_list\n",
    "\n",
    "# Check your answer\n",
    "q2.check()"
   ]
  },
  {
   "cell_type": "code",
   "execution_count": 10,
   "id": "1167cfaf",
   "metadata": {
    "execution": {
     "iopub.execute_input": "2022-02-21T20:20:16.554708Z",
     "iopub.status.busy": "2022-02-21T20:20:16.553849Z",
     "iopub.status.idle": "2022-02-21T20:20:16.556657Z",
     "shell.execute_reply": "2022-02-21T20:20:16.557087Z",
     "shell.execute_reply.started": "2022-02-20T12:01:06.963814Z"
    },
    "papermill": {
     "duration": 0.027144,
     "end_time": "2022-02-21T20:20:16.557237",
     "exception": false,
     "start_time": "2022-02-21T20:20:16.530093",
     "status": "completed"
    },
    "tags": []
   },
   "outputs": [],
   "source": [
    "#q2.hint()\n",
    "#q2.solution()"
   ]
  },
  {
   "cell_type": "markdown",
   "id": "904d2111",
   "metadata": {
    "papermill": {
     "duration": 0.021204,
     "end_time": "2022-02-21T20:20:16.599893",
     "exception": false,
     "start_time": "2022-02-21T20:20:16.578689",
     "status": "completed"
    },
    "tags": []
   },
   "source": [
    "# 3.\n",
    "\n",
    "Now the researcher wants to supply multiple keywords to search for. Complete the function below to help her.\n",
    "\n",
    "(You're encouraged to use the `word_search` function you just wrote when implementing this function. Reusing code in this way makes your programs more robust and readable - and it saves typing!)"
   ]
  },
  {
   "cell_type": "code",
   "execution_count": 11,
   "id": "edbb0cbc",
   "metadata": {
    "execution": {
     "iopub.execute_input": "2022-02-21T20:20:16.645818Z",
     "iopub.status.busy": "2022-02-21T20:20:16.644934Z",
     "iopub.status.idle": "2022-02-21T20:20:16.653493Z",
     "shell.execute_reply": "2022-02-21T20:20:16.654002Z",
     "shell.execute_reply.started": "2022-02-20T12:01:19.712945Z"
    },
    "papermill": {
     "duration": 0.033044,
     "end_time": "2022-02-21T20:20:16.654156",
     "exception": false,
     "start_time": "2022-02-21T20:20:16.621112",
     "status": "completed"
    },
    "tags": []
   },
   "outputs": [
    {
     "data": {
      "application/javascript": [
       "parent.postMessage({\"jupyterEvent\": \"custom.exercise_interaction\", \"data\": {\"outcomeType\": 1, \"valueTowardsCompletion\": 0.3333333333333333, \"interactionType\": 1, \"questionType\": 2, \"questionId\": \"3_MultiWordSearch\", \"learnToolsVersion\": \"0.3.4\", \"failureMessage\": \"\", \"exceptionClass\": \"\", \"trace\": \"\"}}, \"*\")"
      ],
      "text/plain": [
       "<IPython.core.display.Javascript object>"
      ]
     },
     "metadata": {},
     "output_type": "display_data"
    },
    {
     "data": {
      "text/markdown": [
       "<span style=\"color:#33cc33\">Correct</span>"
      ],
      "text/plain": [
       "Correct"
      ]
     },
     "metadata": {},
     "output_type": "display_data"
    }
   ],
   "source": [
    "def multi_word_search(doc_list, keywords):\n",
    "    \"\"\"\n",
    "    Takes list of documents (each document is a string) and a list of keywords.  \n",
    "    Returns a dictionary where each key is a keyword, and the value is a list of indices\n",
    "    (from doc_list) of the documents containing that keyword\n",
    "\n",
    "    >>> doc_list = [\"The Learn Python Challenge Casino.\", \"They bought a car and a casino\", \"Casinoville\"]\n",
    "    >>> keywords = ['casino', 'they']\n",
    "    >>> multi_word_search(doc_list, keywords)\n",
    "    {'casino': [0, 1], 'they': [1]}\n",
    "    \"\"\"\n",
    "    \n",
    "    new_dict = {}\n",
    "    \n",
    "    for k in keywords:\n",
    "        new_dict[k] = []\n",
    "    \n",
    "    for (index, i) in enumerate(doc_list):\n",
    "\n",
    "        for k in keywords:\n",
    "            if k.lower() in [splitted.strip(\".,?\").lower() for splitted in i.split()]:\n",
    "            \n",
    "                new_dict[k].append(index)\n",
    "    \n",
    "    return new_dict\n",
    "            \n",
    "\n",
    "# Check your answer\n",
    "q3.check()"
   ]
  },
  {
   "cell_type": "code",
   "execution_count": 12,
   "id": "3147c383",
   "metadata": {
    "execution": {
     "iopub.execute_input": "2022-02-21T20:20:16.702635Z",
     "iopub.status.busy": "2022-02-21T20:20:16.701734Z",
     "iopub.status.idle": "2022-02-21T20:20:16.704975Z",
     "shell.execute_reply": "2022-02-21T20:20:16.705367Z",
     "shell.execute_reply.started": "2022-02-20T12:01:06.985662Z"
    },
    "papermill": {
     "duration": 0.029024,
     "end_time": "2022-02-21T20:20:16.705538",
     "exception": false,
     "start_time": "2022-02-21T20:20:16.676514",
     "status": "completed"
    },
    "tags": []
   },
   "outputs": [],
   "source": [
    "#q3.solution()"
   ]
  },
  {
   "cell_type": "markdown",
   "id": "c97647da",
   "metadata": {
    "papermill": {
     "duration": 0.022459,
     "end_time": "2022-02-21T20:20:16.750491",
     "exception": false,
     "start_time": "2022-02-21T20:20:16.728032",
     "status": "completed"
    },
    "tags": []
   },
   "source": [
    "# Keep Going\n",
    "\n",
    "You've learned a lot. But even the best programmers rely heavily on \"libraries\" of code from other programmers. You'll learn about that in **[the last lesson](https://www.kaggle.com/colinmorris/working-with-external-libraries)**.\n"
   ]
  },
  {
   "cell_type": "markdown",
   "id": "2a7a708e",
   "metadata": {
    "papermill": {
     "duration": 0.022364,
     "end_time": "2022-02-21T20:20:16.796031",
     "exception": false,
     "start_time": "2022-02-21T20:20:16.773667",
     "status": "completed"
    },
    "tags": []
   },
   "source": [
    "---\n",
    "\n",
    "\n",
    "\n",
    "\n",
    "*Have questions or comments? Visit the [course discussion forum](https://www.kaggle.com/learn/python/discussion) to chat with other learners.*"
   ]
  }
 ],
 "metadata": {
  "kernelspec": {
   "display_name": "Python 3",
   "language": "python",
   "name": "python3"
  },
  "language_info": {
   "codemirror_mode": {
    "name": "ipython",
    "version": 3
   },
   "file_extension": ".py",
   "mimetype": "text/x-python",
   "name": "python",
   "nbconvert_exporter": "python",
   "pygments_lexer": "ipython3",
   "version": "3.7.12"
  },
  "papermill": {
   "default_parameters": {},
   "duration": 10.182812,
   "end_time": "2022-02-21T20:20:17.428351",
   "environment_variables": {},
   "exception": null,
   "input_path": "__notebook__.ipynb",
   "output_path": "__notebook__.ipynb",
   "parameters": {},
   "start_time": "2022-02-21T20:20:07.245539",
   "version": "2.3.3"
  }
 },
 "nbformat": 4,
 "nbformat_minor": 5
}
