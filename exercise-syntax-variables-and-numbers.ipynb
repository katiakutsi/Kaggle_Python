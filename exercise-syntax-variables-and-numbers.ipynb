{
 "cells": [
  {
   "cell_type": "markdown",
   "id": "1405f0ea",
   "metadata": {
    "papermill": {
     "duration": 0.026376,
     "end_time": "2022-02-21T20:07:37.131312",
     "exception": false,
     "start_time": "2022-02-21T20:07:37.104936",
     "status": "completed"
    },
    "tags": []
   },
   "source": [
    "**This notebook is an exercise in the [Python](https://www.kaggle.com/learn/python) course.  You can reference the tutorial at [this link](https://www.kaggle.com/colinmorris/hello-python).**\n",
    "\n",
    "---\n"
   ]
  },
  {
   "cell_type": "markdown",
   "id": "5a999ac6",
   "metadata": {
    "papermill": {
     "duration": 0.023892,
     "end_time": "2022-02-21T20:07:37.182695",
     "exception": false,
     "start_time": "2022-02-21T20:07:37.158803",
     "status": "completed"
    },
    "tags": []
   },
   "source": [
    "Welcome to your first set of Python coding problems.  If this is your first time using Kaggle Notebooks, welcome! \n",
    "\n",
    "Notebooks are composed of blocks (called \"cells\") of text and code. Each of these is editable, though you'll mainly be editing the code cells to answer some questions.\n",
    "\n",
    "To get started, try running the code cell below (by pressing the ► button, or clicking on the cell and pressing ctrl+enter on your keyboard)."
   ]
  },
  {
   "cell_type": "code",
   "execution_count": 1,
   "id": "b482d5e8",
   "metadata": {
    "execution": {
     "iopub.execute_input": "2022-02-21T20:07:37.235737Z",
     "iopub.status.busy": "2022-02-21T20:07:37.234525Z",
     "iopub.status.idle": "2022-02-21T20:07:37.245723Z",
     "shell.execute_reply": "2022-02-21T20:07:37.244910Z",
     "shell.execute_reply.started": "2022-02-11T20:44:47.184963Z"
    },
    "papermill": {
     "duration": 0.038912,
     "end_time": "2022-02-21T20:07:37.245913",
     "exception": false,
     "start_time": "2022-02-21T20:07:37.207001",
     "status": "completed"
    },
    "tags": []
   },
   "outputs": [
    {
     "name": "stdout",
     "output_type": "stream",
     "text": [
      "You've successfully run some Python code\n",
      "Congratulations!\n"
     ]
    }
   ],
   "source": [
    "print(\"You've successfully run some Python code\")\n",
    "print(\"Congratulations!\")"
   ]
  },
  {
   "cell_type": "markdown",
   "id": "e291a39d",
   "metadata": {
    "papermill": {
     "duration": 0.024749,
     "end_time": "2022-02-21T20:07:37.295611",
     "exception": false,
     "start_time": "2022-02-21T20:07:37.270862",
     "status": "completed"
    },
    "tags": []
   },
   "source": [
    "Try adding another line of code in the cell above and re-running it. \n",
    "\n",
    "Now let's get a little fancier:  Add a new code cell by clicking on an existing code cell, hitting the escape key, and then hitting the `a` or `b` key.  The `a` key will add a cell above the current cell, and `b` adds a cell below.\n",
    "\n",
    "Great! Now you know how to use Notebooks.\n",
    "\n",
    "Each hands-on exercise starts by setting up our feedback and code checking mechanism. Run the code cell below to do that. Then you'll be ready to move on to question 0."
   ]
  },
  {
   "cell_type": "code",
   "execution_count": 2,
   "id": "e1057127",
   "metadata": {
    "_kg_hide-input": true,
    "_kg_hide-output": true,
    "execution": {
     "iopub.execute_input": "2022-02-21T20:07:37.350801Z",
     "iopub.status.busy": "2022-02-21T20:07:37.349839Z",
     "iopub.status.idle": "2022-02-21T20:07:37.397616Z",
     "shell.execute_reply": "2022-02-21T20:07:37.398400Z",
     "shell.execute_reply.started": "2022-02-11T20:44:52.498531Z"
    },
    "papermill": {
     "duration": 0.078537,
     "end_time": "2022-02-21T20:07:37.398649",
     "exception": false,
     "start_time": "2022-02-21T20:07:37.320112",
     "status": "completed"
    },
    "tags": []
   },
   "outputs": [
    {
     "name": "stdout",
     "output_type": "stream",
     "text": [
      "Setup complete! You're ready to start question 0.\n"
     ]
    }
   ],
   "source": [
    "from learntools.core import binder; binder.bind(globals())\n",
    "from learntools.python.ex1 import *\n",
    "print(\"Setup complete! You're ready to start question 0.\")"
   ]
  },
  {
   "cell_type": "markdown",
   "id": "6a2bf072",
   "metadata": {
    "papermill": {
     "duration": 0.0269,
     "end_time": "2022-02-21T20:07:37.451629",
     "exception": false,
     "start_time": "2022-02-21T20:07:37.424729",
     "status": "completed"
    },
    "tags": []
   },
   "source": [
    "# 0.\n",
    "\n",
    "*This is a silly question intended as an introduction to the format we use for hands-on exercises throughout all Kaggle courses.*\n",
    "\n",
    "**What is your favorite color? **\n",
    "\n",
    "To complete this question, create a variable called `color` in the cell below with an appropriate value. The function call `q0.check()` (which we've already provided in the cell below) will check your answer."
   ]
  },
  {
   "cell_type": "code",
   "execution_count": 3,
   "id": "c1ae66f5",
   "metadata": {
    "execution": {
     "iopub.execute_input": "2022-02-21T20:07:37.511957Z",
     "iopub.status.busy": "2022-02-21T20:07:37.511088Z",
     "iopub.status.idle": "2022-02-21T20:07:37.516559Z",
     "shell.execute_reply": "2022-02-21T20:07:37.517064Z",
     "shell.execute_reply.started": "2022-02-11T20:45:10.052373Z"
    },
    "papermill": {
     "duration": 0.038503,
     "end_time": "2022-02-21T20:07:37.517248",
     "exception": false,
     "start_time": "2022-02-21T20:07:37.478745",
     "status": "completed"
    },
    "tags": []
   },
   "outputs": [
    {
     "data": {
      "application/javascript": [
       "parent.postMessage({\"jupyterEvent\": \"custom.exercise_interaction\", \"data\": {\"outcomeType\": 1, \"valueTowardsCompletion\": 0.25, \"interactionType\": 1, \"questionType\": 2, \"questionId\": \"0_ExerciseFormatTutorial\", \"learnToolsVersion\": \"0.3.4\", \"failureMessage\": \"\", \"exceptionClass\": \"\", \"trace\": \"\"}}, \"*\")"
      ],
      "text/plain": [
       "<IPython.core.display.Javascript object>"
      ]
     },
     "metadata": {},
     "output_type": "display_data"
    },
    {
     "data": {
      "text/markdown": [
       "<span style=\"color:#33cc33\">Correct:</span> What?! You got it right without needing a hint or anything? Drats. Well hey, you should still continue to the next step to get some practice asking for a hint and checking solutions. (Even though you obviously don't need any help here.)"
      ],
      "text/plain": [
       "Correct: What?! You got it right without needing a hint or anything? Drats. Well hey, you should still continue to the next step to get some practice asking for a hint and checking solutions. (Even though you obviously don't need any help here.)"
      ]
     },
     "metadata": {},
     "output_type": "display_data"
    }
   ],
   "source": [
    "# create a variable called color with an appropriate value on the line below\n",
    "# (Remember, strings in Python must be enclosed in 'single' or \"double\" quotes)\n",
    "color = 'blue'\n",
    "\n",
    "# Check your answer\n",
    "q0.check()"
   ]
  },
  {
   "cell_type": "markdown",
   "id": "770efd85",
   "metadata": {
    "papermill": {
     "duration": 0.02611,
     "end_time": "2022-02-21T20:07:37.570059",
     "exception": false,
     "start_time": "2022-02-21T20:07:37.543949",
     "status": "completed"
    },
    "tags": []
   },
   "source": [
    "Didn't get the right answer? How do you not even know your own favorite color?!\n",
    "\n",
    "Delete the `#` in the line below to make one of the lines run. You can choose between getting a hint or the full answer by choosing which line to remove the `#` from. \n",
    "\n",
    "Removing the `#` is called uncommenting, because it changes that line from a \"comment\" which Python doesn't run to code, which Python does run."
   ]
  },
  {
   "cell_type": "code",
   "execution_count": 4,
   "id": "a7822e60",
   "metadata": {
    "execution": {
     "iopub.execute_input": "2022-02-21T20:07:37.630142Z",
     "iopub.status.busy": "2022-02-21T20:07:37.627518Z",
     "iopub.status.idle": "2022-02-21T20:07:37.635609Z",
     "shell.execute_reply": "2022-02-21T20:07:37.636126Z",
     "shell.execute_reply.started": "2022-02-11T20:46:17.500342Z"
    },
    "papermill": {
     "duration": 0.039908,
     "end_time": "2022-02-21T20:07:37.636318",
     "exception": false,
     "start_time": "2022-02-21T20:07:37.596410",
     "status": "completed"
    },
    "tags": []
   },
   "outputs": [
    {
     "data": {
      "application/javascript": [
       "parent.postMessage({\"jupyterEvent\": \"custom.exercise_interaction\", \"data\": {\"interactionType\": 2, \"questionType\": 2, \"questionId\": \"0_ExerciseFormatTutorial\", \"learnToolsVersion\": \"0.3.4\", \"valueTowardsCompletion\": 0.0, \"failureMessage\": \"\", \"exceptionClass\": \"\", \"trace\": \"\", \"outcomeType\": 4}}, \"*\")"
      ],
      "text/plain": [
       "<IPython.core.display.Javascript object>"
      ]
     },
     "metadata": {},
     "output_type": "display_data"
    },
    {
     "data": {
      "text/markdown": [
       "<span style=\"color:#3366cc\">Hint:</span> Your favorite color rhymes with *glue*."
      ],
      "text/plain": [
       "Hint: Your favorite color rhymes with *glue*."
      ]
     },
     "metadata": {},
     "output_type": "display_data"
    }
   ],
   "source": [
    "q0.hint()\n",
    "#q0.solution()"
   ]
  },
  {
   "cell_type": "markdown",
   "id": "f9670413",
   "metadata": {
    "papermill": {
     "duration": 0.027637,
     "end_time": "2022-02-21T20:07:37.691651",
     "exception": false,
     "start_time": "2022-02-21T20:07:37.664014",
     "status": "completed"
    },
    "tags": []
   },
   "source": [
    "The upcoming questions work the same way. The only thing that will change are the question numbers. For the next question, you'll call `q1.check()`, `q1.hint()`, `q1.solution()`, for question 2, you'll call `q2.check()`, and so on."
   ]
  },
  {
   "cell_type": "markdown",
   "id": "93efb9d1",
   "metadata": {
    "papermill": {
     "duration": 0.028058,
     "end_time": "2022-02-21T20:07:37.748202",
     "exception": false,
     "start_time": "2022-02-21T20:07:37.720144",
     "status": "completed"
    },
    "tags": []
   },
   "source": [
    "<hr/>\n",
    "\n",
    "# 1.\n",
    "\n",
    "Complete the code below. In case it's helpful, here is the table of available arithmetic operations:\n",
    "\n",
    "\n",
    "\n",
    "| Operator     | Name           | Description                                            |\n",
    "|--------------|----------------|--------------------------------------------------------|\n",
    "| ``a + b``    | Addition       | Sum of ``a`` and ``b``                                 |\n",
    "| ``a - b``    | Subtraction    | Difference of ``a`` and ``b``                          |\n",
    "| ``a * b``    | Multiplication | Product of ``a`` and ``b``                             |\n",
    "| ``a / b``    | True division  | Quotient of ``a`` and ``b``                            |\n",
    "| ``a // b``   | Floor division | Quotient of ``a`` and ``b``, removing fractional parts |\n",
    "| ``a % b``    | Modulus        | Integer remainder after division of ``a`` by ``b``     |\n",
    "| ``a ** b``   | Exponentiation | ``a`` raised to the power of ``b``                     |\n",
    "| ``-a``       | Negation       | The negative of ``a``                                  |\n",
    "\n",
    "<span style=\"display:none\"></span>\n"
   ]
  },
  {
   "cell_type": "code",
   "execution_count": 5,
   "id": "b8dc055c",
   "metadata": {
    "execution": {
     "iopub.execute_input": "2022-02-21T20:07:37.810108Z",
     "iopub.status.busy": "2022-02-21T20:07:37.809424Z",
     "iopub.status.idle": "2022-02-21T20:07:37.813658Z",
     "shell.execute_reply": "2022-02-21T20:07:37.814253Z",
     "shell.execute_reply.started": "2022-02-11T20:50:41.507483Z"
    },
    "papermill": {
     "duration": 0.038445,
     "end_time": "2022-02-21T20:07:37.814457",
     "exception": false,
     "start_time": "2022-02-21T20:07:37.776012",
     "status": "completed"
    },
    "tags": []
   },
   "outputs": [
    {
     "data": {
      "application/javascript": [
       "parent.postMessage({\"jupyterEvent\": \"custom.exercise_interaction\", \"data\": {\"outcomeType\": 1, \"valueTowardsCompletion\": 0.25, \"interactionType\": 1, \"questionType\": 1, \"questionId\": \"1_CircleArea\", \"learnToolsVersion\": \"0.3.4\", \"failureMessage\": \"\", \"exceptionClass\": \"\", \"trace\": \"\"}}, \"*\")"
      ],
      "text/plain": [
       "<IPython.core.display.Javascript object>"
      ]
     },
     "metadata": {},
     "output_type": "display_data"
    },
    {
     "data": {
      "text/markdown": [
       "<span style=\"color:#33cc33\">Correct</span>"
      ],
      "text/plain": [
       "Correct"
      ]
     },
     "metadata": {},
     "output_type": "display_data"
    }
   ],
   "source": [
    "pi = 3.14159 # approximate\n",
    "diameter = 3\n",
    "\n",
    "# Create a variable called 'radius' equal to half the diameter\n",
    "radius = diameter / 2\n",
    "\n",
    "# Create a variable called 'area', using the formula for the area of a circle: pi times the radius squared\n",
    "area = pi * (radius * radius)\n",
    "\n",
    "# Check your answer\n",
    "q1.check()"
   ]
  },
  {
   "cell_type": "code",
   "execution_count": 6,
   "id": "345d3a2e",
   "metadata": {
    "execution": {
     "iopub.execute_input": "2022-02-21T20:07:37.879097Z",
     "iopub.status.busy": "2022-02-21T20:07:37.878399Z",
     "iopub.status.idle": "2022-02-21T20:07:37.881535Z",
     "shell.execute_reply": "2022-02-21T20:07:37.882090Z"
    },
    "papermill": {
     "duration": 0.037706,
     "end_time": "2022-02-21T20:07:37.882264",
     "exception": false,
     "start_time": "2022-02-21T20:07:37.844558",
     "status": "completed"
    },
    "tags": []
   },
   "outputs": [],
   "source": [
    "# Uncomment and run the lines below if you need help.\n",
    "#q1.hint()\n",
    "#q1.solution()"
   ]
  },
  {
   "cell_type": "markdown",
   "id": "1175788b",
   "metadata": {
    "papermill": {
     "duration": 0.02852,
     "end_time": "2022-02-21T20:07:37.940508",
     "exception": false,
     "start_time": "2022-02-21T20:07:37.911988",
     "status": "completed"
    },
    "tags": []
   },
   "source": [
    "<hr/>\n",
    "\n",
    "# 2.\n",
    "\n",
    "Add code to the following cell to swap variables `a` and `b` (so that `a` refers to the object previously referred to by `b` and vice versa)."
   ]
  },
  {
   "cell_type": "code",
   "execution_count": 7,
   "id": "ba2d76a7",
   "metadata": {
    "execution": {
     "iopub.execute_input": "2022-02-21T20:07:38.001773Z",
     "iopub.status.busy": "2022-02-21T20:07:38.001066Z",
     "iopub.status.idle": "2022-02-21T20:07:38.009249Z",
     "shell.execute_reply": "2022-02-21T20:07:38.009809Z",
     "shell.execute_reply.started": "2022-02-11T21:01:23.244975Z"
    },
    "papermill": {
     "duration": 0.040533,
     "end_time": "2022-02-21T20:07:38.009988",
     "exception": false,
     "start_time": "2022-02-21T20:07:37.969455",
     "status": "completed"
    },
    "tags": []
   },
   "outputs": [
    {
     "data": {
      "application/javascript": [
       "parent.postMessage({\"jupyterEvent\": \"custom.exercise_interaction\", \"data\": {\"outcomeType\": 1, \"valueTowardsCompletion\": 0.25, \"interactionType\": 1, \"questionType\": 2, \"questionId\": \"2_VariableSwap\", \"learnToolsVersion\": \"0.3.4\", \"failureMessage\": \"\", \"exceptionClass\": \"\", \"trace\": \"\"}}, \"*\")"
      ],
      "text/plain": [
       "<IPython.core.display.Javascript object>"
      ]
     },
     "metadata": {},
     "output_type": "display_data"
    },
    {
     "data": {
      "text/markdown": [
       "<span style=\"color:#33cc33\">Correct:</span> \n",
       "\n",
       "The most straightforward solution is to use a third variable to temporarily store one of the old values. e.g.:\n",
       "\n",
       "    tmp = a\n",
       "    a = b\n",
       "    b = tmp\n",
       "\n",
       "If you've read lots of Python code, you might have seen the following trick to swap two variables in one line:\n",
       "\n",
       "    a, b = b, a\n",
       "\n",
       "We'll demystify this bit of Python magic later when we talk about *tuples*."
      ],
      "text/plain": [
       "Correct: \n",
       "\n",
       "The most straightforward solution is to use a third variable to temporarily store one of the old values. e.g.:\n",
       "\n",
       "    tmp = a\n",
       "    a = b\n",
       "    b = tmp\n",
       "\n",
       "If you've read lots of Python code, you might have seen the following trick to swap two variables in one line:\n",
       "\n",
       "    a, b = b, a\n",
       "\n",
       "We'll demystify this bit of Python magic later when we talk about *tuples*."
      ]
     },
     "metadata": {},
     "output_type": "display_data"
    }
   ],
   "source": [
    "########### Setup code - don't touch this part ######################\n",
    "# If you're curious, these are examples of lists. We'll talk about \n",
    "# them in depth a few lessons from now. For now, just know that they're\n",
    "# yet another type of Python object, like int or float.\n",
    "a = [1, 2, 3]\n",
    "b = [3, 2, 1]\n",
    "q2.store_original_ids()\n",
    "######################################################################\n",
    "a,b = b,a\n",
    "# Your code goes here. Swap the values to which a and b refer.\n",
    "# If you get stuck, you can always uncomment one or both of the lines in\n",
    "# the next cell for a hint, or to peek at the solution.\n",
    "\n",
    "######################################################################\n",
    "\n",
    "# Check your answer\n",
    "q2.check()"
   ]
  },
  {
   "cell_type": "code",
   "execution_count": 8,
   "id": "85e31ccd",
   "metadata": {
    "execution": {
     "iopub.execute_input": "2022-02-21T20:07:38.075395Z",
     "iopub.status.busy": "2022-02-21T20:07:38.074720Z",
     "iopub.status.idle": "2022-02-21T20:07:38.078922Z",
     "shell.execute_reply": "2022-02-21T20:07:38.079424Z"
    },
    "papermill": {
     "duration": 0.039435,
     "end_time": "2022-02-21T20:07:38.079619",
     "exception": false,
     "start_time": "2022-02-21T20:07:38.040184",
     "status": "completed"
    },
    "tags": []
   },
   "outputs": [],
   "source": [
    "#q2.hint()"
   ]
  },
  {
   "cell_type": "code",
   "execution_count": 9,
   "id": "86ab6265",
   "metadata": {
    "execution": {
     "iopub.execute_input": "2022-02-21T20:07:38.146956Z",
     "iopub.status.busy": "2022-02-21T20:07:38.146301Z",
     "iopub.status.idle": "2022-02-21T20:07:38.147956Z",
     "shell.execute_reply": "2022-02-21T20:07:38.148609Z"
    },
    "papermill": {
     "duration": 0.038102,
     "end_time": "2022-02-21T20:07:38.148784",
     "exception": false,
     "start_time": "2022-02-21T20:07:38.110682",
     "status": "completed"
    },
    "tags": []
   },
   "outputs": [],
   "source": [
    "#q2.solution()"
   ]
  },
  {
   "cell_type": "markdown",
   "id": "c2d1303e",
   "metadata": {
    "papermill": {
     "duration": 0.030164,
     "end_time": "2022-02-21T20:07:38.210893",
     "exception": false,
     "start_time": "2022-02-21T20:07:38.180729",
     "status": "completed"
    },
    "tags": []
   },
   "source": [
    "<hr/>\n",
    "\n",
    "# 3a.\n",
    "\n",
    "Add parentheses to the following expression so that it evaluates to 1."
   ]
  },
  {
   "cell_type": "code",
   "execution_count": 10,
   "id": "36fd2129",
   "metadata": {
    "execution": {
     "iopub.execute_input": "2022-02-21T20:07:38.276546Z",
     "iopub.status.busy": "2022-02-21T20:07:38.275841Z",
     "iopub.status.idle": "2022-02-21T20:07:38.280790Z",
     "shell.execute_reply": "2022-02-21T20:07:38.281400Z",
     "shell.execute_reply.started": "2022-02-11T21:02:07.959387Z"
    },
    "papermill": {
     "duration": 0.039206,
     "end_time": "2022-02-21T20:07:38.281584",
     "exception": false,
     "start_time": "2022-02-21T20:07:38.242378",
     "status": "completed"
    },
    "tags": []
   },
   "outputs": [
    {
     "data": {
      "text/plain": [
       "1"
      ]
     },
     "execution_count": 10,
     "metadata": {},
     "output_type": "execute_result"
    }
   ],
   "source": [
    "(5 - 3) // 2"
   ]
  },
  {
   "cell_type": "code",
   "execution_count": 11,
   "id": "a6539d47",
   "metadata": {
    "execution": {
     "iopub.execute_input": "2022-02-21T20:07:38.346700Z",
     "iopub.status.busy": "2022-02-21T20:07:38.346061Z",
     "iopub.status.idle": "2022-02-21T20:07:38.348865Z",
     "shell.execute_reply": "2022-02-21T20:07:38.349407Z",
     "shell.execute_reply.started": "2022-02-11T21:02:26.905962Z"
    },
    "papermill": {
     "duration": 0.036861,
     "end_time": "2022-02-21T20:07:38.349571",
     "exception": false,
     "start_time": "2022-02-21T20:07:38.312710",
     "status": "completed"
    },
    "tags": []
   },
   "outputs": [],
   "source": [
    "#q3.a.hint()"
   ]
  },
  {
   "cell_type": "code",
   "execution_count": 12,
   "id": "7ef73413",
   "metadata": {
    "execution": {
     "iopub.execute_input": "2022-02-21T20:07:38.414362Z",
     "iopub.status.busy": "2022-02-21T20:07:38.413664Z",
     "iopub.status.idle": "2022-02-21T20:07:38.419401Z",
     "shell.execute_reply": "2022-02-21T20:07:38.419927Z",
     "shell.execute_reply.started": "2022-02-11T21:02:39.633542Z"
    },
    "papermill": {
     "duration": 0.039853,
     "end_time": "2022-02-21T20:07:38.420090",
     "exception": false,
     "start_time": "2022-02-21T20:07:38.380237",
     "status": "completed"
    },
    "tags": []
   },
   "outputs": [
    {
     "data": {
      "application/javascript": [
       "parent.postMessage({\"jupyterEvent\": \"custom.exercise_interaction\", \"data\": {\"interactionType\": 3, \"questionType\": 4, \"questionId\": \"3.1_ArithmeticParensEasy\", \"learnToolsVersion\": \"0.3.4\", \"valueTowardsCompletion\": 0.0, \"failureMessage\": \"\", \"exceptionClass\": \"\", \"trace\": \"\", \"outcomeType\": 4}}, \"*\")"
      ],
      "text/plain": [
       "<IPython.core.display.Javascript object>"
      ]
     },
     "metadata": {},
     "output_type": "display_data"
    },
    {
     "data": {
      "text/markdown": [
       "<span style=\"color:#33cc99\">Solution:</span> \n",
       "```python\n",
       "(5 - 3) // 2\n",
       "```"
      ],
      "text/plain": [
       "Solution: \n",
       "```python\n",
       "(5 - 3) // 2\n",
       "```"
      ]
     },
     "metadata": {},
     "output_type": "display_data"
    }
   ],
   "source": [
    "# Check your answer (Run this code cell to receive credit!)\n",
    "q3.a.solution()"
   ]
  },
  {
   "cell_type": "markdown",
   "id": "366975ef",
   "metadata": {
    "papermill": {
     "duration": 0.03302,
     "end_time": "2022-02-21T20:07:38.485255",
     "exception": false,
     "start_time": "2022-02-21T20:07:38.452235",
     "status": "completed"
    },
    "tags": []
   },
   "source": [
    "# 3b.  <span title=\"A bit spicy\" style=\"color: darkgreen \">🌶️</span>\n",
    "\n",
    "<small>Questions, like this one, marked a spicy pepper are a bit harder.</small>\n",
    "\n",
    "Add parentheses to the following expression so that it evaluates to 0."
   ]
  },
  {
   "cell_type": "code",
   "execution_count": 13,
   "id": "8ef36fcc",
   "metadata": {
    "execution": {
     "iopub.execute_input": "2022-02-21T20:07:38.553499Z",
     "iopub.status.busy": "2022-02-21T20:07:38.552838Z",
     "iopub.status.idle": "2022-02-21T20:07:38.557321Z",
     "shell.execute_reply": "2022-02-21T20:07:38.557949Z"
    },
    "papermill": {
     "duration": 0.040387,
     "end_time": "2022-02-21T20:07:38.558134",
     "exception": false,
     "start_time": "2022-02-21T20:07:38.517747",
     "status": "completed"
    },
    "tags": []
   },
   "outputs": [
    {
     "data": {
      "text/plain": [
       "2"
      ]
     },
     "execution_count": 13,
     "metadata": {},
     "output_type": "execute_result"
    }
   ],
   "source": [
    "8 - 3 * 2 - 1 + 1"
   ]
  },
  {
   "cell_type": "code",
   "execution_count": 14,
   "id": "46ebd020",
   "metadata": {
    "execution": {
     "iopub.execute_input": "2022-02-21T20:07:38.629439Z",
     "iopub.status.busy": "2022-02-21T20:07:38.628738Z",
     "iopub.status.idle": "2022-02-21T20:07:38.632033Z",
     "shell.execute_reply": "2022-02-21T20:07:38.632556Z"
    },
    "papermill": {
     "duration": 0.039956,
     "end_time": "2022-02-21T20:07:38.632729",
     "exception": false,
     "start_time": "2022-02-21T20:07:38.592773",
     "status": "completed"
    },
    "tags": []
   },
   "outputs": [],
   "source": [
    "#q3.b.hint()"
   ]
  },
  {
   "cell_type": "code",
   "execution_count": 15,
   "id": "8521ea5f",
   "metadata": {
    "execution": {
     "iopub.execute_input": "2022-02-21T20:07:38.703972Z",
     "iopub.status.busy": "2022-02-21T20:07:38.703261Z",
     "iopub.status.idle": "2022-02-21T20:07:38.709424Z",
     "shell.execute_reply": "2022-02-21T20:07:38.709973Z"
    },
    "papermill": {
     "duration": 0.044178,
     "end_time": "2022-02-21T20:07:38.710142",
     "exception": false,
     "start_time": "2022-02-21T20:07:38.665964",
     "status": "completed"
    },
    "tags": []
   },
   "outputs": [
    {
     "data": {
      "application/javascript": [
       "parent.postMessage({\"jupyterEvent\": \"custom.exercise_interaction\", \"data\": {\"interactionType\": 3, \"questionType\": 4, \"questionId\": \"3.2_ArithmeticParensHard\", \"learnToolsVersion\": \"0.3.4\", \"valueTowardsCompletion\": 0.0, \"failureMessage\": \"\", \"exceptionClass\": \"\", \"trace\": \"\", \"outcomeType\": 4}}, \"*\")"
      ],
      "text/plain": [
       "<IPython.core.display.Javascript object>"
      ]
     },
     "metadata": {},
     "output_type": "display_data"
    },
    {
     "data": {
      "text/markdown": [
       "<span style=\"color:#33cc99\">Solution:</span> `(8 - 3) * (2 - (1 + 1))` is one solution. There may be others."
      ],
      "text/plain": [
       "Solution: `(8 - 3) * (2 - (1 + 1))` is one solution. There may be others."
      ]
     },
     "metadata": {},
     "output_type": "display_data"
    }
   ],
   "source": [
    "# Check your answer (Run this code cell to receive credit!)\n",
    "q3.b.solution()"
   ]
  },
  {
   "cell_type": "markdown",
   "id": "896f3233",
   "metadata": {
    "papermill": {
     "duration": 0.033894,
     "end_time": "2022-02-21T20:07:38.778360",
     "exception": false,
     "start_time": "2022-02-21T20:07:38.744466",
     "status": "completed"
    },
    "tags": []
   },
   "source": [
    "<hr/>\n",
    "\n",
    "# 4. \n",
    "Alice, Bob and Carol have agreed to pool their Halloween candy and split it evenly among themselves.\n",
    "For the sake of their friendship, any candies left over will be smashed. For example, if they collectively\n",
    "bring home 91 candies, they'll take 30 each and smash 1.\n",
    "\n",
    "Write an arithmetic expression below to calculate how many candies they must smash for a given haul."
   ]
  },
  {
   "cell_type": "code",
   "execution_count": 16,
   "id": "6ed1ead8",
   "metadata": {
    "execution": {
     "iopub.execute_input": "2022-02-21T20:07:38.853667Z",
     "iopub.status.busy": "2022-02-21T20:07:38.852809Z",
     "iopub.status.idle": "2022-02-21T20:07:38.857244Z",
     "shell.execute_reply": "2022-02-21T20:07:38.857796Z",
     "shell.execute_reply.started": "2022-02-11T21:07:19.531326Z"
    },
    "papermill": {
     "duration": 0.044993,
     "end_time": "2022-02-21T20:07:38.857978",
     "exception": false,
     "start_time": "2022-02-21T20:07:38.812985",
     "status": "completed"
    },
    "tags": []
   },
   "outputs": [
    {
     "data": {
      "application/javascript": [
       "parent.postMessage({\"jupyterEvent\": \"custom.exercise_interaction\", \"data\": {\"outcomeType\": 1, \"valueTowardsCompletion\": 0.25, \"interactionType\": 1, \"questionType\": 1, \"questionId\": \"4_CandySplitting\", \"learnToolsVersion\": \"0.3.4\", \"failureMessage\": \"\", \"exceptionClass\": \"\", \"trace\": \"\"}}, \"*\")"
      ],
      "text/plain": [
       "<IPython.core.display.Javascript object>"
      ]
     },
     "metadata": {},
     "output_type": "display_data"
    },
    {
     "data": {
      "text/markdown": [
       "<span style=\"color:#33cc33\">Correct</span>"
      ],
      "text/plain": [
       "Correct"
      ]
     },
     "metadata": {},
     "output_type": "display_data"
    }
   ],
   "source": [
    "# Variables representing the number of candies collected by alice, bob, and carol\n",
    "alice_candies = 121\n",
    "bob_candies = 77\n",
    "carol_candies = 109\n",
    "\n",
    "# Your code goes here! Replace the right-hand side of this assignment with an expression\n",
    "# involving alice_candies, bob_candies, and carol_candies\n",
    "to_smash = (alice_candies + bob_candies + carol_candies) % 3\n",
    "\n",
    "# Check your answer\n",
    "q4.check()"
   ]
  },
  {
   "cell_type": "code",
   "execution_count": 17,
   "id": "7805ddd5",
   "metadata": {
    "execution": {
     "iopub.execute_input": "2022-02-21T20:07:38.935323Z",
     "iopub.status.busy": "2022-02-21T20:07:38.934605Z",
     "iopub.status.idle": "2022-02-21T20:07:38.936485Z",
     "shell.execute_reply": "2022-02-21T20:07:38.937028Z"
    },
    "papermill": {
     "duration": 0.043594,
     "end_time": "2022-02-21T20:07:38.937207",
     "exception": false,
     "start_time": "2022-02-21T20:07:38.893613",
     "status": "completed"
    },
    "tags": []
   },
   "outputs": [],
   "source": [
    "#q4.hint()\n",
    "#q4.solution()"
   ]
  },
  {
   "cell_type": "markdown",
   "id": "3058693b",
   "metadata": {
    "papermill": {
     "duration": 0.037457,
     "end_time": "2022-02-21T20:07:39.012252",
     "exception": false,
     "start_time": "2022-02-21T20:07:38.974795",
     "status": "completed"
    },
    "tags": []
   },
   "source": [
    "# Keep Going\n",
    "\n",
    "Next up, you'll **[learn to write new functions and understand functions others write](https://www.kaggle.com/colinmorris/functions-and-getting-help)**. This will make you at least 10 times more productive as a Python programmer. "
   ]
  },
  {
   "cell_type": "markdown",
   "id": "b2a26e68",
   "metadata": {
    "papermill": {
     "duration": 0.036385,
     "end_time": "2022-02-21T20:07:39.088057",
     "exception": false,
     "start_time": "2022-02-21T20:07:39.051672",
     "status": "completed"
    },
    "tags": []
   },
   "source": [
    "---\n",
    "\n",
    "\n",
    "\n",
    "\n",
    "*Have questions or comments? Visit the [course discussion forum](https://www.kaggle.com/learn/python/discussion) to chat with other learners.*"
   ]
  }
 ],
 "metadata": {
  "kernelspec": {
   "display_name": "Python 3",
   "language": "python",
   "name": "python3"
  },
  "language_info": {
   "codemirror_mode": {
    "name": "ipython",
    "version": 3
   },
   "file_extension": ".py",
   "mimetype": "text/x-python",
   "name": "python",
   "nbconvert_exporter": "python",
   "pygments_lexer": "ipython3",
   "version": "3.7.12"
  },
  "papermill": {
   "default_parameters": {},
   "duration": 14.003286,
   "end_time": "2022-02-21T20:07:39.735952",
   "environment_variables": {},
   "exception": null,
   "input_path": "__notebook__.ipynb",
   "output_path": "__notebook__.ipynb",
   "parameters": {},
   "start_time": "2022-02-21T20:07:25.732666",
   "version": "2.3.3"
  }
 },
 "nbformat": 4,
 "nbformat_minor": 5
}
