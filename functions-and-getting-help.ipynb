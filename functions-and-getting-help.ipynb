{
 "cells": [
  {
   "cell_type": "markdown",
   "id": "ac08e110",
   "metadata": {
    "papermill": {
     "duration": 0.019431,
     "end_time": "2022-02-21T20:16:54.267262",
     "exception": false,
     "start_time": "2022-02-21T20:16:54.247831",
     "status": "completed"
    },
    "tags": []
   },
   "source": [
    "**This notebook is an exercise in the [Python](https://www.kaggle.com/learn/python) course.  You can reference the tutorial at [this link](https://www.kaggle.com/colinmorris/functions-and-getting-help).**\n",
    "\n",
    "---\n"
   ]
  },
  {
   "cell_type": "markdown",
   "id": "1d7a937f",
   "metadata": {
    "papermill": {
     "duration": 0.014667,
     "end_time": "2022-02-21T20:16:54.297895",
     "exception": false,
     "start_time": "2022-02-21T20:16:54.283228",
     "status": "completed"
    },
    "tags": []
   },
   "source": [
    "Functions are powerful. Try writing some yourself.\n",
    "\n",
    "As before, don't forget to run the setup code below before jumping into question 1."
   ]
  },
  {
   "cell_type": "code",
   "execution_count": 1,
   "id": "73998ff9",
   "metadata": {
    "_kg_hide-input": true,
    "_kg_hide-output": true,
    "execution": {
     "iopub.execute_input": "2022-02-21T20:16:54.334514Z",
     "iopub.status.busy": "2022-02-21T20:16:54.333578Z",
     "iopub.status.idle": "2022-02-21T20:16:54.376620Z",
     "shell.execute_reply": "2022-02-21T20:16:54.375840Z",
     "shell.execute_reply.started": "2022-02-11T21:16:27.88876Z"
    },
    "papermill": {
     "duration": 0.065424,
     "end_time": "2022-02-21T20:16:54.376779",
     "exception": false,
     "start_time": "2022-02-21T20:16:54.311355",
     "status": "completed"
    },
    "tags": []
   },
   "outputs": [
    {
     "name": "stdout",
     "output_type": "stream",
     "text": [
      "Setup complete.\n"
     ]
    }
   ],
   "source": [
    "# SETUP. You don't need to worry for now about what this code does or how it works.\n",
    "from learntools.core import binder; binder.bind(globals())\n",
    "from learntools.python.ex2 import *\n",
    "print('Setup complete.')"
   ]
  },
  {
   "cell_type": "markdown",
   "id": "d227d6ef",
   "metadata": {
    "papermill": {
     "duration": 0.013133,
     "end_time": "2022-02-21T20:16:54.403676",
     "exception": false,
     "start_time": "2022-02-21T20:16:54.390543",
     "status": "completed"
    },
    "tags": []
   },
   "source": [
    "# 1.\n",
    "\n",
    "Complete the body of the following function according to its docstring.\n",
    "\n",
    "HINT: Python has a built-in function `round`."
   ]
  },
  {
   "cell_type": "code",
   "execution_count": 2,
   "id": "70fa606c",
   "metadata": {
    "execution": {
     "iopub.execute_input": "2022-02-21T20:16:54.437347Z",
     "iopub.status.busy": "2022-02-21T20:16:54.436696Z",
     "iopub.status.idle": "2022-02-21T20:16:54.440413Z",
     "shell.execute_reply": "2022-02-21T20:16:54.440874Z",
     "shell.execute_reply.started": "2022-02-11T21:20:08.132354Z"
    },
    "papermill": {
     "duration": 0.024213,
     "end_time": "2022-02-21T20:16:54.441045",
     "exception": false,
     "start_time": "2022-02-21T20:16:54.416832",
     "status": "completed"
    },
    "tags": []
   },
   "outputs": [
    {
     "data": {
      "application/javascript": [
       "parent.postMessage({\"jupyterEvent\": \"custom.exercise_interaction\", \"data\": {\"outcomeType\": 1, \"valueTowardsCompletion\": 0.16666666666666666, \"interactionType\": 1, \"questionType\": 2, \"questionId\": \"1_RoundFunctionProblem\", \"learnToolsVersion\": \"0.3.4\", \"failureMessage\": \"\", \"exceptionClass\": \"\", \"trace\": \"\"}}, \"*\")"
      ],
      "text/plain": [
       "<IPython.core.display.Javascript object>"
      ]
     },
     "metadata": {},
     "output_type": "display_data"
    },
    {
     "data": {
      "text/markdown": [
       "<span style=\"color:#33cc33\">Correct</span>"
      ],
      "text/plain": [
       "Correct"
      ]
     },
     "metadata": {},
     "output_type": "display_data"
    }
   ],
   "source": [
    "def round_to_two_places(num):\n",
    "    return round(num,2)\n",
    "    \n",
    "    # Replace this body with your own code.\n",
    "    # (\"pass\" is a keyword that does literally nothing. We used it as a placeholder\n",
    "    # because after we begin a code block, Python requires at least one line of code)\n",
    "    pass\n",
    "\n",
    "# Check your answer\n",
    "q1.check()"
   ]
  },
  {
   "cell_type": "code",
   "execution_count": 3,
   "id": "c616e3dc",
   "metadata": {
    "execution": {
     "iopub.execute_input": "2022-02-21T20:16:54.472253Z",
     "iopub.status.busy": "2022-02-21T20:16:54.471668Z",
     "iopub.status.idle": "2022-02-21T20:16:54.475437Z",
     "shell.execute_reply": "2022-02-21T20:16:54.474946Z"
    },
    "papermill": {
     "duration": 0.020346,
     "end_time": "2022-02-21T20:16:54.475570",
     "exception": false,
     "start_time": "2022-02-21T20:16:54.455224",
     "status": "completed"
    },
    "tags": []
   },
   "outputs": [],
   "source": [
    "# Uncomment the following for a hint\n",
    "#q1.hint()\n",
    "# Or uncomment the following to peek at the solution\n",
    "#q1.solution()"
   ]
  },
  {
   "cell_type": "markdown",
   "id": "aa1798c6",
   "metadata": {
    "papermill": {
     "duration": 0.013786,
     "end_time": "2022-02-21T20:16:54.503706",
     "exception": false,
     "start_time": "2022-02-21T20:16:54.489920",
     "status": "completed"
    },
    "tags": []
   },
   "source": [
    "# 2.\n",
    "The help for `round` says that `ndigits` (the second argument) may be negative.\n",
    "What do you think will happen when it is? Try some examples in the following cell."
   ]
  },
  {
   "cell_type": "code",
   "execution_count": 4,
   "id": "df3b717f",
   "metadata": {
    "execution": {
     "iopub.execute_input": "2022-02-21T20:16:54.535184Z",
     "iopub.status.busy": "2022-02-21T20:16:54.534590Z",
     "iopub.status.idle": "2022-02-21T20:16:54.539470Z",
     "shell.execute_reply": "2022-02-21T20:16:54.539951Z",
     "shell.execute_reply.started": "2022-02-11T21:29:23.353588Z"
    },
    "papermill": {
     "duration": 0.022271,
     "end_time": "2022-02-21T20:16:54.540142",
     "exception": false,
     "start_time": "2022-02-21T20:16:54.517871",
     "status": "completed"
    },
    "tags": []
   },
   "outputs": [
    {
     "data": {
      "text/plain": [
       "930000"
      ]
     },
     "execution_count": 4,
     "metadata": {},
     "output_type": "execute_result"
    }
   ],
   "source": [
    "round(934898, -4)"
   ]
  },
  {
   "cell_type": "markdown",
   "id": "9bb78f39",
   "metadata": {
    "papermill": {
     "duration": 0.01435,
     "end_time": "2022-02-21T20:16:54.569510",
     "exception": false,
     "start_time": "2022-02-21T20:16:54.555160",
     "status": "completed"
    },
    "tags": []
   },
   "source": [
    "Can you think of a case where this would be useful?  Once you're ready, run the code cell below to see the answer and to receive credit for completing the problem."
   ]
  },
  {
   "cell_type": "code",
   "execution_count": 5,
   "id": "4fe89853",
   "metadata": {
    "execution": {
     "iopub.execute_input": "2022-02-21T20:16:54.601865Z",
     "iopub.status.busy": "2022-02-21T20:16:54.601307Z",
     "iopub.status.idle": "2022-02-21T20:16:54.603704Z",
     "shell.execute_reply": "2022-02-21T20:16:54.604287Z",
     "shell.execute_reply.started": "2022-02-11T21:26:41.0014Z"
    },
    "papermill": {
     "duration": 0.020273,
     "end_time": "2022-02-21T20:16:54.604452",
     "exception": false,
     "start_time": "2022-02-21T20:16:54.584179",
     "status": "completed"
    },
    "tags": []
   },
   "outputs": [],
   "source": [
    "# Check your answer (Run this code cell to receive credit!)\n",
    "#q2.solution()"
   ]
  },
  {
   "cell_type": "markdown",
   "id": "e6d7199b",
   "metadata": {
    "papermill": {
     "duration": 0.014051,
     "end_time": "2022-02-21T20:16:54.632822",
     "exception": false,
     "start_time": "2022-02-21T20:16:54.618771",
     "status": "completed"
    },
    "tags": []
   },
   "source": [
    "# 3.\n",
    "\n",
    "In the previous exercise, the candy-sharing friends Alice, Bob and Carol tried to split candies evenly. For the sake of their friendship, any candies left over would be smashed. For example, if they collectively bring home 91 candies, they'll take 30 each and smash 1.\n",
    "\n",
    "Below is a simple function that will calculate the number of candies to smash for *any* number of total candies.\n",
    "\n",
    "Modify it so that it optionally takes a second argument representing the number of friends the candies are being split between. If no second argument is provided, it should assume 3 friends, as before.\n",
    "\n",
    "Update the docstring to reflect this new behaviour."
   ]
  },
  {
   "cell_type": "code",
   "execution_count": 6,
   "id": "c8e0cee1",
   "metadata": {
    "execution": {
     "iopub.execute_input": "2022-02-21T20:16:54.668889Z",
     "iopub.status.busy": "2022-02-21T20:16:54.668035Z",
     "iopub.status.idle": "2022-02-21T20:16:54.673941Z",
     "shell.execute_reply": "2022-02-21T20:16:54.674697Z",
     "shell.execute_reply.started": "2022-02-11T21:40:38.352579Z"
    },
    "papermill": {
     "duration": 0.027803,
     "end_time": "2022-02-21T20:16:54.674976",
     "exception": false,
     "start_time": "2022-02-21T20:16:54.647173",
     "status": "completed"
    },
    "tags": []
   },
   "outputs": [
    {
     "data": {
      "application/javascript": [
       "parent.postMessage({\"jupyterEvent\": \"custom.exercise_interaction\", \"data\": {\"outcomeType\": 1, \"valueTowardsCompletion\": 0.16666666666666666, \"interactionType\": 1, \"questionType\": 2, \"questionId\": \"3_CandySmashingFunctionProblem\", \"learnToolsVersion\": \"0.3.4\", \"failureMessage\": \"\", \"exceptionClass\": \"\", \"trace\": \"\"}}, \"*\")"
      ],
      "text/plain": [
       "<IPython.core.display.Javascript object>"
      ]
     },
     "metadata": {},
     "output_type": "display_data"
    },
    {
     "data": {
      "text/markdown": [
       "<span style=\"color:#33cc33\">Correct</span>"
      ],
      "text/plain": [
       "Correct"
      ]
     },
     "metadata": {},
     "output_type": "display_data"
    }
   ],
   "source": [
    "def to_smash(total_candies, n=3):\n",
    "    \"\"\"Return the number of leftover candies that must be smashed after distributing\n",
    "    the given number of candies evenly between 3 friends.\n",
    "    \n",
    "    >>> to_smash(91)\n",
    "    1\n",
    "    \"\"\"\n",
    "    return total_candies % n\n",
    "\n",
    "# Check your answer\n",
    "q3.check()"
   ]
  },
  {
   "cell_type": "code",
   "execution_count": 7,
   "id": "3812d4cd",
   "metadata": {
    "execution": {
     "iopub.execute_input": "2022-02-21T20:16:54.717808Z",
     "iopub.status.busy": "2022-02-21T20:16:54.716866Z",
     "iopub.status.idle": "2022-02-21T20:16:54.719745Z",
     "shell.execute_reply": "2022-02-21T20:16:54.719230Z",
     "shell.execute_reply.started": "2022-02-11T21:38:56.401519Z"
    },
    "papermill": {
     "duration": 0.02433,
     "end_time": "2022-02-21T20:16:54.719880",
     "exception": false,
     "start_time": "2022-02-21T20:16:54.695550",
     "status": "completed"
    },
    "tags": []
   },
   "outputs": [],
   "source": [
    "#q3.hint()"
   ]
  },
  {
   "cell_type": "code",
   "execution_count": 8,
   "id": "f1768d99",
   "metadata": {
    "execution": {
     "iopub.execute_input": "2022-02-21T20:16:54.761122Z",
     "iopub.status.busy": "2022-02-21T20:16:54.760233Z",
     "iopub.status.idle": "2022-02-21T20:16:54.762623Z",
     "shell.execute_reply": "2022-02-21T20:16:54.763058Z",
     "shell.execute_reply.started": "2022-02-11T21:39:37.884955Z"
    },
    "papermill": {
     "duration": 0.025561,
     "end_time": "2022-02-21T20:16:54.763238",
     "exception": false,
     "start_time": "2022-02-21T20:16:54.737677",
     "status": "completed"
    },
    "tags": []
   },
   "outputs": [],
   "source": [
    "#q3.solution()"
   ]
  },
  {
   "cell_type": "markdown",
   "id": "4a718145",
   "metadata": {
    "papermill": {
     "duration": 0.015545,
     "end_time": "2022-02-21T20:16:54.794398",
     "exception": false,
     "start_time": "2022-02-21T20:16:54.778853",
     "status": "completed"
    },
    "tags": []
   },
   "source": [
    "# 4. (Optional)\n",
    "\n",
    "It may not be fun, but reading and understanding error messages will be an important part of your Python career.\n",
    "\n",
    "Each code cell below contains some commented buggy code. For each cell...\n",
    "\n",
    "1. Read the code and predict what you think will happen when it's run.\n",
    "2. Then uncomment the code and run it to see what happens. (**Tip**: In the kernel editor, you can highlight several lines and press `ctrl`+`/` to toggle commenting.)\n",
    "3. Fix the code (so that it accomplishes its intended purpose without throwing an exception)\n",
    "\n",
    "<!-- TODO: should this be autochecked? Delta is probably pretty small. -->"
   ]
  },
  {
   "cell_type": "code",
   "execution_count": 9,
   "id": "6b7578e9",
   "metadata": {
    "execution": {
     "iopub.execute_input": "2022-02-21T20:16:54.831730Z",
     "iopub.status.busy": "2022-02-21T20:16:54.831054Z",
     "iopub.status.idle": "2022-02-21T20:16:54.833456Z",
     "shell.execute_reply": "2022-02-21T20:16:54.833872Z",
     "shell.execute_reply.started": "2022-02-11T21:41:24.708035Z"
    },
    "papermill": {
     "duration": 0.023815,
     "end_time": "2022-02-21T20:16:54.834046",
     "exception": false,
     "start_time": "2022-02-21T20:16:54.810231",
     "status": "completed"
    },
    "tags": []
   },
   "outputs": [
    {
     "data": {
      "text/plain": [
       "10.0"
      ]
     },
     "execution_count": 9,
     "metadata": {},
     "output_type": "execute_result"
    }
   ],
   "source": [
    "round_to_two_places(9.9999)"
   ]
  },
  {
   "cell_type": "code",
   "execution_count": 10,
   "id": "c00d2fd8",
   "metadata": {
    "execution": {
     "iopub.execute_input": "2022-02-21T20:16:54.868813Z",
     "iopub.status.busy": "2022-02-21T20:16:54.868242Z",
     "iopub.status.idle": "2022-02-21T20:16:54.870992Z",
     "shell.execute_reply": "2022-02-21T20:16:54.871451Z",
     "shell.execute_reply.started": "2022-02-11T21:42:33.607886Z"
    },
    "papermill": {
     "duration": 0.021879,
     "end_time": "2022-02-21T20:16:54.871607",
     "exception": false,
     "start_time": "2022-02-21T20:16:54.849728",
     "status": "completed"
    },
    "tags": []
   },
   "outputs": [],
   "source": [
    "x = -10\n",
    "y = 5\n",
    "# Which of the two variables above has the smallest absolute value?\n",
    "smallest_abs = min(x, y)"
   ]
  },
  {
   "cell_type": "code",
   "execution_count": 11,
   "id": "49db9c3a",
   "metadata": {
    "execution": {
     "iopub.execute_input": "2022-02-21T20:16:54.906243Z",
     "iopub.status.busy": "2022-02-21T20:16:54.905601Z",
     "iopub.status.idle": "2022-02-21T20:16:54.910842Z",
     "shell.execute_reply": "2022-02-21T20:16:54.911460Z",
     "shell.execute_reply.started": "2022-02-11T21:42:49.202136Z"
    },
    "papermill": {
     "duration": 0.024298,
     "end_time": "2022-02-21T20:16:54.911673",
     "exception": false,
     "start_time": "2022-02-21T20:16:54.887375",
     "status": "completed"
    },
    "tags": []
   },
   "outputs": [
    {
     "name": "stdout",
     "output_type": "stream",
     "text": [
      "5\n"
     ]
    }
   ],
   "source": [
    "def f(x):\n",
    "    y = abs(x)\n",
    "    return y\n",
    "\n",
    "print(f(5))"
   ]
  },
  {
   "cell_type": "markdown",
   "id": "f2d36dfc",
   "metadata": {
    "papermill": {
     "duration": 0.015532,
     "end_time": "2022-02-21T20:16:54.945519",
     "exception": false,
     "start_time": "2022-02-21T20:16:54.929987",
     "status": "completed"
    },
    "tags": []
   },
   "source": [
    "# Keep Going\n",
    "\n",
    "Nice job with the code. Next up, you'll learn about *conditionals*, which you'll need to **[write interesting programs](https://www.kaggle.com/colinmorris/booleans-and-conditionals)**. "
   ]
  },
  {
   "cell_type": "markdown",
   "id": "93c9807e",
   "metadata": {
    "papermill": {
     "duration": 0.015375,
     "end_time": "2022-02-21T20:16:54.976631",
     "exception": false,
     "start_time": "2022-02-21T20:16:54.961256",
     "status": "completed"
    },
    "tags": []
   },
   "source": [
    "---\n",
    "\n",
    "\n",
    "\n",
    "\n",
    "*Have questions or comments? Visit the [course discussion forum](https://www.kaggle.com/learn/python/discussion) to chat with other learners.*"
   ]
  }
 ],
 "metadata": {
  "kernelspec": {
   "display_name": "Python 3",
   "language": "python",
   "name": "python3"
  },
  "language_info": {
   "codemirror_mode": {
    "name": "ipython",
    "version": 3
   },
   "file_extension": ".py",
   "mimetype": "text/x-python",
   "name": "python",
   "nbconvert_exporter": "python",
   "pygments_lexer": "ipython3",
   "version": "3.7.12"
  },
  "papermill": {
   "default_parameters": {},
   "duration": 9.71886,
   "end_time": "2022-02-21T20:16:55.600915",
   "environment_variables": {},
   "exception": null,
   "input_path": "__notebook__.ipynb",
   "output_path": "__notebook__.ipynb",
   "parameters": {},
   "start_time": "2022-02-21T20:16:45.882055",
   "version": "2.3.3"
  }
 },
 "nbformat": 4,
 "nbformat_minor": 5
}
