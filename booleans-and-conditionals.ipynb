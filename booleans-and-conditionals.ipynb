{
 "cells": [
  {
   "cell_type": "markdown",
   "id": "2123d59e",
   "metadata": {
    "papermill": {
     "duration": 0.035227,
     "end_time": "2022-02-21T20:17:42.882751",
     "exception": false,
     "start_time": "2022-02-21T20:17:42.847524",
     "status": "completed"
    },
    "tags": []
   },
   "source": [
    "**This notebook is an exercise in the [Python](https://www.kaggle.com/learn/python) course.  You can reference the tutorial at [this link](https://www.kaggle.com/colinmorris/booleans-and-conditionals).**\n",
    "\n",
    "---\n"
   ]
  },
  {
   "cell_type": "markdown",
   "id": "1f31e9a3",
   "metadata": {
    "papermill": {
     "duration": 0.0388,
     "end_time": "2022-02-21T20:17:42.960416",
     "exception": false,
     "start_time": "2022-02-21T20:17:42.921616",
     "status": "completed"
    },
    "tags": []
   },
   "source": [
    "In this exercise, you'll put to work what you have learned about booleans and conditionals.\n",
    "\n",
    "To get started, **run the setup code below** before writing your own code (and if you leave this notebook and come back later, don't forget to run the setup code again)."
   ]
  },
  {
   "cell_type": "code",
   "execution_count": 1,
   "id": "f3f83ac7",
   "metadata": {
    "execution": {
     "iopub.execute_input": "2022-02-21T20:17:43.036547Z",
     "iopub.status.busy": "2022-02-21T20:17:43.035409Z",
     "iopub.status.idle": "2022-02-21T20:17:43.069255Z",
     "shell.execute_reply": "2022-02-21T20:17:43.069657Z",
     "shell.execute_reply.started": "2022-02-13T21:32:41.501415Z"
    },
    "papermill": {
     "duration": 0.071649,
     "end_time": "2022-02-21T20:17:43.069867",
     "exception": false,
     "start_time": "2022-02-21T20:17:42.998218",
     "status": "completed"
    },
    "tags": []
   },
   "outputs": [
    {
     "name": "stdout",
     "output_type": "stream",
     "text": [
      "Setup complete.\n"
     ]
    }
   ],
   "source": [
    "from learntools.core import binder; binder.bind(globals())\n",
    "from learntools.python.ex3 import *\n",
    "print('Setup complete.')"
   ]
  },
  {
   "cell_type": "markdown",
   "id": "b5479c00",
   "metadata": {
    "papermill": {
     "duration": 0.022764,
     "end_time": "2022-02-21T20:17:43.116511",
     "exception": false,
     "start_time": "2022-02-21T20:17:43.093747",
     "status": "completed"
    },
    "tags": []
   },
   "source": [
    "# 1.\n",
    "\n",
    "Many programming languages have [`sign`](https://en.wikipedia.org/wiki/Sign_function) available as a built-in function. Python doesn't, but we can define our own!\n",
    "\n",
    "In the cell below, define a function called `sign` which takes a numerical argument and returns -1 if it's negative, 1 if it's positive, and 0 if it's 0."
   ]
  },
  {
   "cell_type": "code",
   "execution_count": 2,
   "id": "8c6ba353",
   "metadata": {
    "execution": {
     "iopub.execute_input": "2022-02-21T20:17:43.165012Z",
     "iopub.status.busy": "2022-02-21T20:17:43.164335Z",
     "iopub.status.idle": "2022-02-21T20:17:43.172548Z",
     "shell.execute_reply": "2022-02-21T20:17:43.172897Z",
     "shell.execute_reply.started": "2022-02-13T20:39:47.555526Z"
    },
    "papermill": {
     "duration": 0.033976,
     "end_time": "2022-02-21T20:17:43.173023",
     "exception": false,
     "start_time": "2022-02-21T20:17:43.139047",
     "status": "completed"
    },
    "tags": []
   },
   "outputs": [
    {
     "data": {
      "application/javascript": [
       "parent.postMessage({\"jupyterEvent\": \"custom.exercise_interaction\", \"data\": {\"outcomeType\": 1, \"valueTowardsCompletion\": 0.2, \"interactionType\": 1, \"questionType\": 2, \"questionId\": \"1_SignFunctionProblem\", \"learnToolsVersion\": \"0.3.4\", \"failureMessage\": \"\", \"exceptionClass\": \"\", \"trace\": \"\"}}, \"*\")"
      ],
      "text/plain": [
       "<IPython.core.display.Javascript object>"
      ]
     },
     "metadata": {},
     "output_type": "display_data"
    },
    {
     "data": {
      "text/markdown": [
       "<span style=\"color:#33cc33\">Correct</span>"
      ],
      "text/plain": [
       "Correct"
      ]
     },
     "metadata": {},
     "output_type": "display_data"
    }
   ],
   "source": [
    "def sign(n):\n",
    "    if n < 0:\n",
    "        return -1\n",
    "    elif n > 0:\n",
    "        return 1\n",
    "    elif 0 == 0:\n",
    "        return 0\n",
    "\n",
    "# Check your answer\n",
    "q1.check()"
   ]
  },
  {
   "cell_type": "code",
   "execution_count": 3,
   "id": "203aa5f8",
   "metadata": {
    "execution": {
     "iopub.execute_input": "2022-02-21T20:17:43.224457Z",
     "iopub.status.busy": "2022-02-21T20:17:43.223807Z",
     "iopub.status.idle": "2022-02-21T20:17:43.226507Z",
     "shell.execute_reply": "2022-02-21T20:17:43.226849Z"
    },
    "papermill": {
     "duration": 0.029373,
     "end_time": "2022-02-21T20:17:43.226968",
     "exception": false,
     "start_time": "2022-02-21T20:17:43.197595",
     "status": "completed"
    },
    "tags": []
   },
   "outputs": [],
   "source": [
    "#q1.solution()"
   ]
  },
  {
   "cell_type": "markdown",
   "id": "32af5ff1",
   "metadata": {
    "papermill": {
     "duration": 0.023851,
     "end_time": "2022-02-21T20:17:43.274586",
     "exception": false,
     "start_time": "2022-02-21T20:17:43.250735",
     "status": "completed"
    },
    "tags": []
   },
   "source": [
    "# 2.\n",
    "\n",
    "We've decided to add \"logging\" to our `to_smash` function from the previous exercise."
   ]
  },
  {
   "cell_type": "code",
   "execution_count": 4,
   "id": "df008b50",
   "metadata": {
    "execution": {
     "iopub.execute_input": "2022-02-21T20:17:43.327996Z",
     "iopub.status.busy": "2022-02-21T20:17:43.327361Z",
     "iopub.status.idle": "2022-02-21T20:17:43.331108Z",
     "shell.execute_reply": "2022-02-21T20:17:43.331574Z",
     "shell.execute_reply.started": "2022-02-13T20:39:51.273088Z"
    },
    "papermill": {
     "duration": 0.032943,
     "end_time": "2022-02-21T20:17:43.331690",
     "exception": false,
     "start_time": "2022-02-21T20:17:43.298747",
     "status": "completed"
    },
    "tags": []
   },
   "outputs": [
    {
     "name": "stdout",
     "output_type": "stream",
     "text": [
      "Splitting 91 candies\n"
     ]
    },
    {
     "data": {
      "text/plain": [
       "1"
      ]
     },
     "execution_count": 4,
     "metadata": {},
     "output_type": "execute_result"
    }
   ],
   "source": [
    "def to_smash(total_candies):\n",
    "    \"\"\"Return the number of leftover candies that must be smashed after distributing\n",
    "    the given number of candies evenly between 3 friends.\n",
    "    \n",
    "    >>> to_smash(91)\n",
    "    1\n",
    "    \"\"\"\n",
    "    print(\"Splitting\", total_candies, \"candies\")\n",
    "    return total_candies % 3\n",
    "\n",
    "to_smash(91)"
   ]
  },
  {
   "cell_type": "markdown",
   "id": "4ab677c6",
   "metadata": {
    "papermill": {
     "duration": 0.023935,
     "end_time": "2022-02-21T20:17:43.380214",
     "exception": false,
     "start_time": "2022-02-21T20:17:43.356279",
     "status": "completed"
    },
    "tags": []
   },
   "source": [
    "What happens if we call it with `total_candies = 1`?"
   ]
  },
  {
   "cell_type": "code",
   "execution_count": 5,
   "id": "0a725872",
   "metadata": {
    "execution": {
     "iopub.execute_input": "2022-02-21T20:17:43.432829Z",
     "iopub.status.busy": "2022-02-21T20:17:43.432366Z",
     "iopub.status.idle": "2022-02-21T20:17:43.437293Z",
     "shell.execute_reply": "2022-02-21T20:17:43.437771Z",
     "shell.execute_reply.started": "2022-02-13T20:39:57.089138Z"
    },
    "papermill": {
     "duration": 0.0331,
     "end_time": "2022-02-21T20:17:43.437901",
     "exception": false,
     "start_time": "2022-02-21T20:17:43.404801",
     "status": "completed"
    },
    "tags": []
   },
   "outputs": [
    {
     "name": "stdout",
     "output_type": "stream",
     "text": [
      "Splitting 1 candies\n"
     ]
    },
    {
     "data": {
      "text/plain": [
       "1"
      ]
     },
     "execution_count": 5,
     "metadata": {},
     "output_type": "execute_result"
    }
   ],
   "source": [
    "to_smash(1)"
   ]
  },
  {
   "cell_type": "markdown",
   "id": "da257652",
   "metadata": {
    "papermill": {
     "duration": 0.025772,
     "end_time": "2022-02-21T20:17:43.489947",
     "exception": false,
     "start_time": "2022-02-21T20:17:43.464175",
     "status": "completed"
    },
    "tags": []
   },
   "source": [
    "That isn't great grammar!\n",
    "\n",
    "Modify the definition in the cell below to correct the grammar of our print statement. (If there's only one candy, we should use the singular \"candy\" instead of the plural \"candies\")"
   ]
  },
  {
   "cell_type": "code",
   "execution_count": 6,
   "id": "1d199917",
   "metadata": {
    "execution": {
     "iopub.execute_input": "2022-02-21T20:17:43.543758Z",
     "iopub.status.busy": "2022-02-21T20:17:43.543293Z",
     "iopub.status.idle": "2022-02-21T20:17:43.550627Z",
     "shell.execute_reply": "2022-02-21T20:17:43.551063Z",
     "shell.execute_reply.started": "2022-02-21T20:15:14.667661Z"
    },
    "papermill": {
     "duration": 0.03558,
     "end_time": "2022-02-21T20:17:43.551199",
     "exception": false,
     "start_time": "2022-02-21T20:17:43.515619",
     "status": "completed"
    },
    "tags": []
   },
   "outputs": [
    {
     "name": "stdout",
     "output_type": "stream",
     "text": [
      "Splitting 91 candies\n",
      "Splitting 1 candy\n"
     ]
    },
    {
     "data": {
      "text/plain": [
       "1"
      ]
     },
     "execution_count": 6,
     "metadata": {},
     "output_type": "execute_result"
    }
   ],
   "source": [
    "def to_smash(total_candies):\n",
    "    if total_candies == 1:\n",
    "        print('Splitting 1 candy')\n",
    "    else:\n",
    "        print(\"Splitting\", total_candies, \"candies\")\n",
    "        \n",
    "    return total_candies % 3\n",
    "\n",
    "to_smash(91)\n",
    "to_smash(1)"
   ]
  },
  {
   "cell_type": "markdown",
   "id": "70fa4b1a",
   "metadata": {
    "papermill": {
     "duration": 0.026308,
     "end_time": "2022-02-21T20:17:43.603892",
     "exception": false,
     "start_time": "2022-02-21T20:17:43.577584",
     "status": "completed"
    },
    "tags": []
   },
   "source": [
    "To get credit for completing this problem, and to see the official answer, run the code cell below."
   ]
  },
  {
   "cell_type": "code",
   "execution_count": 7,
   "id": "33d45431",
   "metadata": {
    "execution": {
     "iopub.execute_input": "2022-02-21T20:17:43.658772Z",
     "iopub.status.busy": "2022-02-21T20:17:43.658320Z",
     "iopub.status.idle": "2022-02-21T20:17:43.660997Z",
     "shell.execute_reply": "2022-02-21T20:17:43.661411Z",
     "shell.execute_reply.started": "2022-02-13T21:26:10.770078Z"
    },
    "papermill": {
     "duration": 0.031325,
     "end_time": "2022-02-21T20:17:43.661517",
     "exception": false,
     "start_time": "2022-02-21T20:17:43.630192",
     "status": "completed"
    },
    "tags": []
   },
   "outputs": [],
   "source": [
    "# Check your answer (Run this code cell to receive credit!)\n",
    "#q2.solution()"
   ]
  },
  {
   "cell_type": "markdown",
   "id": "ce13ba93",
   "metadata": {
    "papermill": {
     "duration": 0.026201,
     "end_time": "2022-02-21T20:17:43.713641",
     "exception": false,
     "start_time": "2022-02-21T20:17:43.687440",
     "status": "completed"
    },
    "tags": []
   },
   "source": [
    "# 3. <span title=\"A bit spicy\" style=\"color: darkgreen \">🌶️</span>\n",
    "\n",
    "In the tutorial, we talked about deciding whether we're prepared for the weather. I said that I'm safe from today's weather if...\n",
    "- I have an umbrella...\n",
    "- or if the rain isn't too heavy and I have a hood...\n",
    "- otherwise, I'm still fine unless it's raining *and* it's a workday\n",
    "\n",
    "The function below uses our first attempt at turning this logic into a Python expression. I claimed that there was a bug in that code. Can you find it?\n",
    "\n",
    "To prove that `prepared_for_weather` is buggy, come up with a set of inputs where either:\n",
    "- the function returns `False` (but should have returned `True`), or\n",
    "- the function returned `True` (but should have returned `False`).\n",
    "\n",
    "To get credit for completing this question, your code should return a <font color='#33cc33'>Correct</font> result."
   ]
  },
  {
   "cell_type": "code",
   "execution_count": 8,
   "id": "3c759d7b",
   "metadata": {
    "execution": {
     "iopub.execute_input": "2022-02-21T20:17:43.769895Z",
     "iopub.status.busy": "2022-02-21T20:17:43.769455Z",
     "iopub.status.idle": "2022-02-21T20:17:43.778625Z",
     "shell.execute_reply": "2022-02-21T20:17:43.779050Z",
     "shell.execute_reply.started": "2022-02-13T20:40:15.643734Z"
    },
    "papermill": {
     "duration": 0.039027,
     "end_time": "2022-02-21T20:17:43.779182",
     "exception": false,
     "start_time": "2022-02-21T20:17:43.740155",
     "status": "completed"
    },
    "tags": []
   },
   "outputs": [
    {
     "name": "stdout",
     "output_type": "stream",
     "text": [
      "True\n"
     ]
    },
    {
     "data": {
      "application/javascript": [
       "parent.postMessage({\"jupyterEvent\": \"custom.exercise_interaction\", \"data\": {\"outcomeType\": 1, \"valueTowardsCompletion\": 0.2, \"interactionType\": 1, \"questionType\": 1, \"questionId\": \"3_WeatherDebug\", \"learnToolsVersion\": \"0.3.4\", \"failureMessage\": \"\", \"exceptionClass\": \"\", \"trace\": \"\"}}, \"*\")"
      ],
      "text/plain": [
       "<IPython.core.display.Javascript object>"
      ]
     },
     "metadata": {},
     "output_type": "display_data"
    },
    {
     "data": {
      "text/markdown": [
       "<span style=\"color:#33cc33\">Correct:</span> \n",
       "\n",
       "One example of a failing test case is:\n",
       "\n",
       "```python\n",
       "have_umbrella = False\n",
       "rain_level = 0.0\n",
       "have_hood = False\n",
       "is_workday = False\n",
       "```\n",
       "\n",
       "Clearly we're prepared for the weather in this case. It's not raining. Not only that, it's not a workday, so we don't even need to leave the house! But our function will return False on these inputs.\n",
       "\n",
       "The key problem is that Python implictly parenthesizes the last part as:\n",
       "\n",
       "```python\n",
       "(not (rain_level > 0)) and is_workday\n",
       "```\n",
       "\n",
       "Whereas what we were trying to express would look more like:\n",
       "\n",
       "```python\n",
       "not (rain_level > 0 and is_workday)\n",
       "```\n"
      ],
      "text/plain": [
       "Correct: \n",
       "\n",
       "One example of a failing test case is:\n",
       "\n",
       "```python\n",
       "have_umbrella = False\n",
       "rain_level = 0.0\n",
       "have_hood = False\n",
       "is_workday = False\n",
       "```\n",
       "\n",
       "Clearly we're prepared for the weather in this case. It's not raining. Not only that, it's not a workday, so we don't even need to leave the house! But our function will return False on these inputs.\n",
       "\n",
       "The key problem is that Python implictly parenthesizes the last part as:\n",
       "\n",
       "```python\n",
       "(not (rain_level > 0)) and is_workday\n",
       "```\n",
       "\n",
       "Whereas what we were trying to express would look more like:\n",
       "\n",
       "```python\n",
       "not (rain_level > 0 and is_workday)\n",
       "```"
      ]
     },
     "metadata": {},
     "output_type": "display_data"
    }
   ],
   "source": [
    "def prepared_for_weather(have_umbrella, rain_level, have_hood, is_workday):\n",
    "    # Don't change this code. Our goal is just to find the bug, not fix it!\n",
    "    return have_umbrella or (rain_level < 5 and have_hood) or not (rain_level > 0 and is_workday)\n",
    "\n",
    "# Change the values of these inputs so they represent a case where prepared_for_weather\n",
    "# returns the wrong answer.\n",
    "have_umbrella = False\n",
    "rain_level = 0.0\n",
    "have_hood = False\n",
    "is_workday = False\n",
    "\n",
    "# Check what the function returns given the current values of the variables above\n",
    "actual = prepared_for_weather(have_umbrella, rain_level, have_hood, is_workday)\n",
    "print(actual)\n",
    "\n",
    "# Check your answer\n",
    "q3.check()"
   ]
  },
  {
   "cell_type": "code",
   "execution_count": 9,
   "id": "17b812d1",
   "metadata": {
    "execution": {
     "iopub.execute_input": "2022-02-21T20:17:43.837740Z",
     "iopub.status.busy": "2022-02-21T20:17:43.837281Z",
     "iopub.status.idle": "2022-02-21T20:17:43.839673Z",
     "shell.execute_reply": "2022-02-21T20:17:43.840091Z",
     "shell.execute_reply.started": "2022-02-12T15:24:00.335154Z"
    },
    "papermill": {
     "duration": 0.033097,
     "end_time": "2022-02-21T20:17:43.840220",
     "exception": false,
     "start_time": "2022-02-21T20:17:43.807123",
     "status": "completed"
    },
    "tags": []
   },
   "outputs": [],
   "source": [
    "#q3.hint()\n",
    "#q3.solution()"
   ]
  },
  {
   "cell_type": "markdown",
   "id": "17f677dc",
   "metadata": {
    "papermill": {
     "duration": 0.027783,
     "end_time": "2022-02-21T20:17:43.896421",
     "exception": false,
     "start_time": "2022-02-21T20:17:43.868638",
     "status": "completed"
    },
    "tags": []
   },
   "source": [
    "# 4.\n",
    "\n",
    "The function `is_negative` below is implemented correctly - it returns True if the given number is negative and False otherwise.\n",
    "\n",
    "However, it's more verbose than it needs to be. We can actually reduce the number of lines of code in this function by *75%* while keeping the same behaviour. \n",
    "\n",
    "See if you can come up with an equivalent body that uses just **one line** of code, and put it in the function `concise_is_negative`. (HINT: you don't even need Python's ternary syntax)"
   ]
  },
  {
   "cell_type": "code",
   "execution_count": 10,
   "id": "3ec173ca",
   "metadata": {
    "execution": {
     "iopub.execute_input": "2022-02-21T20:17:43.954606Z",
     "iopub.status.busy": "2022-02-21T20:17:43.954134Z",
     "iopub.status.idle": "2022-02-21T20:17:43.960542Z",
     "shell.execute_reply": "2022-02-21T20:17:43.960949Z",
     "shell.execute_reply.started": "2022-02-13T21:28:25.308857Z"
    },
    "papermill": {
     "duration": 0.035537,
     "end_time": "2022-02-21T20:17:43.961058",
     "exception": false,
     "start_time": "2022-02-21T20:17:43.925521",
     "status": "completed"
    },
    "tags": []
   },
   "outputs": [
    {
     "data": {
      "application/javascript": [
       "parent.postMessage({\"jupyterEvent\": \"custom.exercise_interaction\", \"data\": {\"outcomeType\": 1, \"valueTowardsCompletion\": 0.2, \"interactionType\": 1, \"questionType\": 2, \"questionId\": \"4_ConciseIsNegative\", \"learnToolsVersion\": \"0.3.4\", \"failureMessage\": \"\", \"exceptionClass\": \"\", \"trace\": \"\"}}, \"*\")"
      ],
      "text/plain": [
       "<IPython.core.display.Javascript object>"
      ]
     },
     "metadata": {},
     "output_type": "display_data"
    },
    {
     "data": {
      "text/markdown": [
       "<span style=\"color:#33cc33\">Correct</span>"
      ],
      "text/plain": [
       "Correct"
      ]
     },
     "metadata": {},
     "output_type": "display_data"
    }
   ],
   "source": [
    "def is_negative(number):\n",
    "    if number < 0:\n",
    "        return True\n",
    "    else:\n",
    "        return False\n",
    "\n",
    "def concise_is_negative(number):\n",
    "    return number < 0\n",
    "\n",
    "# Check your answer\n",
    "q4.check()"
   ]
  },
  {
   "cell_type": "code",
   "execution_count": 11,
   "id": "76a766d1",
   "metadata": {
    "execution": {
     "iopub.execute_input": "2022-02-21T20:17:44.017803Z",
     "iopub.status.busy": "2022-02-21T20:17:44.017396Z",
     "iopub.status.idle": "2022-02-21T20:17:44.020172Z",
     "shell.execute_reply": "2022-02-21T20:17:44.020603Z",
     "shell.execute_reply.started": "2022-02-13T21:26:56.522177Z"
    },
    "papermill": {
     "duration": 0.03256,
     "end_time": "2022-02-21T20:17:44.020704",
     "exception": false,
     "start_time": "2022-02-21T20:17:43.988144",
     "status": "completed"
    },
    "tags": []
   },
   "outputs": [],
   "source": [
    "#q4.hint()\n",
    "#q4.solution()"
   ]
  },
  {
   "cell_type": "markdown",
   "id": "df8ab0dd",
   "metadata": {
    "papermill": {
     "duration": 0.026672,
     "end_time": "2022-02-21T20:17:44.074264",
     "exception": false,
     "start_time": "2022-02-21T20:17:44.047592",
     "status": "completed"
    },
    "tags": []
   },
   "source": [
    "# 5a.\n",
    "\n",
    "The boolean variables `ketchup`, `mustard` and `onion` represent whether a customer wants a particular topping on their hot dog. We want to implement a number of boolean functions that correspond to some yes-or-no questions about the customer's order. For example:"
   ]
  },
  {
   "cell_type": "code",
   "execution_count": 12,
   "id": "19054246",
   "metadata": {
    "execution": {
     "iopub.execute_input": "2022-02-21T20:17:44.131867Z",
     "iopub.status.busy": "2022-02-21T20:17:44.131451Z",
     "iopub.status.idle": "2022-02-21T20:17:44.132899Z",
     "shell.execute_reply": "2022-02-21T20:17:44.133298Z",
     "shell.execute_reply.started": "2022-02-13T21:37:47.469559Z"
    },
    "papermill": {
     "duration": 0.032257,
     "end_time": "2022-02-21T20:17:44.133425",
     "exception": false,
     "start_time": "2022-02-21T20:17:44.101168",
     "status": "completed"
    },
    "tags": []
   },
   "outputs": [],
   "source": [
    "def onionless(ketchup, mustard, onion):\n",
    "    \"\"\"Return whether the customer doesn't want onions.\n",
    "    \"\"\"\n",
    "    return not onion"
   ]
  },
  {
   "cell_type": "code",
   "execution_count": 13,
   "id": "0ba0a05d",
   "metadata": {
    "execution": {
     "iopub.execute_input": "2022-02-21T20:17:44.193546Z",
     "iopub.status.busy": "2022-02-21T20:17:44.193085Z",
     "iopub.status.idle": "2022-02-21T20:17:44.197050Z",
     "shell.execute_reply": "2022-02-21T20:17:44.197501Z",
     "shell.execute_reply.started": "2022-02-13T21:38:54.770075Z"
    },
    "papermill": {
     "duration": 0.037187,
     "end_time": "2022-02-21T20:17:44.197613",
     "exception": false,
     "start_time": "2022-02-21T20:17:44.160426",
     "status": "completed"
    },
    "tags": []
   },
   "outputs": [
    {
     "data": {
      "application/javascript": [
       "parent.postMessage({\"jupyterEvent\": \"custom.exercise_interaction\", \"data\": {\"outcomeType\": 1, \"valueTowardsCompletion\": 0.2, \"interactionType\": 1, \"questionType\": 2, \"questionId\": \"5.1_AllToppings\", \"learnToolsVersion\": \"0.3.4\", \"failureMessage\": \"\", \"exceptionClass\": \"\", \"trace\": \"\"}}, \"*\")"
      ],
      "text/plain": [
       "<IPython.core.display.Javascript object>"
      ]
     },
     "metadata": {},
     "output_type": "display_data"
    },
    {
     "data": {
      "text/markdown": [
       "<span style=\"color:#33cc33\">Correct</span>"
      ],
      "text/plain": [
       "Correct"
      ]
     },
     "metadata": {},
     "output_type": "display_data"
    }
   ],
   "source": [
    "def wants_all_toppings(ketchup, mustard, onion):\n",
    "    \"\"\"Return whether the customer wants \"the works\" (all 3 toppings)\n",
    "    \"\"\"\n",
    "    return ketchup and mustard and onion\n",
    "\n",
    "# Check your answer\n",
    "q5.a.check()"
   ]
  },
  {
   "cell_type": "code",
   "execution_count": 14,
   "id": "5b34f880",
   "metadata": {
    "execution": {
     "iopub.execute_input": "2022-02-21T20:17:44.259227Z",
     "iopub.status.busy": "2022-02-21T20:17:44.258773Z",
     "iopub.status.idle": "2022-02-21T20:17:44.260254Z",
     "shell.execute_reply": "2022-02-21T20:17:44.260689Z"
    },
    "papermill": {
     "duration": 0.033933,
     "end_time": "2022-02-21T20:17:44.260796",
     "exception": false,
     "start_time": "2022-02-21T20:17:44.226863",
     "status": "completed"
    },
    "tags": []
   },
   "outputs": [],
   "source": [
    "#q5.a.hint()\n",
    "#q5.a.solution()"
   ]
  },
  {
   "cell_type": "markdown",
   "id": "fc7b99c6",
   "metadata": {
    "papermill": {
     "duration": 0.029142,
     "end_time": "2022-02-21T20:17:44.319278",
     "exception": false,
     "start_time": "2022-02-21T20:17:44.290136",
     "status": "completed"
    },
    "tags": []
   },
   "source": [
    "# 5b.\n",
    "\n",
    "For the next function, fill in the body to match the English description in the docstring. "
   ]
  },
  {
   "cell_type": "code",
   "execution_count": 15,
   "id": "7ef5b597",
   "metadata": {
    "execution": {
     "iopub.execute_input": "2022-02-21T20:17:44.380913Z",
     "iopub.status.busy": "2022-02-21T20:17:44.380458Z",
     "iopub.status.idle": "2022-02-21T20:17:44.386782Z",
     "shell.execute_reply": "2022-02-21T20:17:44.387201Z",
     "shell.execute_reply.started": "2022-02-13T21:41:39.778423Z"
    },
    "papermill": {
     "duration": 0.038978,
     "end_time": "2022-02-21T20:17:44.387309",
     "exception": false,
     "start_time": "2022-02-21T20:17:44.348331",
     "status": "completed"
    },
    "tags": []
   },
   "outputs": [
    {
     "data": {
      "application/javascript": [
       "parent.postMessage({\"jupyterEvent\": \"custom.exercise_interaction\", \"data\": {\"outcomeType\": 1, \"valueTowardsCompletion\": 0.2, \"interactionType\": 1, \"questionType\": 2, \"questionId\": \"5.2_PlainDog\", \"learnToolsVersion\": \"0.3.4\", \"failureMessage\": \"\", \"exceptionClass\": \"\", \"trace\": \"\"}}, \"*\")"
      ],
      "text/plain": [
       "<IPython.core.display.Javascript object>"
      ]
     },
     "metadata": {},
     "output_type": "display_data"
    },
    {
     "data": {
      "text/markdown": [
       "<span style=\"color:#33cc33\">Correct:</span> \n",
       "\n",
       "One solution looks like:\n",
       "```python\n",
       "return not ketchup and not mustard and not onion\n",
       "```\n",
       "\n",
       "We can also [\"factor out\" the nots](https://en.wikipedia.org/wiki/De_Morgan%27s_laws) to get:\n",
       "\n",
       "```python\n",
       "return not (ketchup or mustard or onion)\n",
       "```"
      ],
      "text/plain": [
       "Correct: \n",
       "\n",
       "One solution looks like:\n",
       "```python\n",
       "return not ketchup and not mustard and not onion\n",
       "```\n",
       "\n",
       "We can also [\"factor out\" the nots](https://en.wikipedia.org/wiki/De_Morgan%27s_laws) to get:\n",
       "\n",
       "```python\n",
       "return not (ketchup or mustard or onion)\n",
       "```"
      ]
     },
     "metadata": {},
     "output_type": "display_data"
    }
   ],
   "source": [
    "def wants_plain_hotdog(ketchup, mustard, onion):\n",
    "    \"\"\"Return whether the customer wants a plain hot dog with no toppings.\n",
    "    \"\"\"\n",
    "    return not (ketchup or mustard or onion)\n",
    "\n",
    "# Check your answer\n",
    "q5.b.check()"
   ]
  },
  {
   "cell_type": "code",
   "execution_count": 16,
   "id": "53878a14",
   "metadata": {
    "execution": {
     "iopub.execute_input": "2022-02-21T20:17:44.451471Z",
     "iopub.status.busy": "2022-02-21T20:17:44.450957Z",
     "iopub.status.idle": "2022-02-21T20:17:44.453374Z",
     "shell.execute_reply": "2022-02-21T20:17:44.453827Z"
    },
    "papermill": {
     "duration": 0.036216,
     "end_time": "2022-02-21T20:17:44.453932",
     "exception": false,
     "start_time": "2022-02-21T20:17:44.417716",
     "status": "completed"
    },
    "tags": []
   },
   "outputs": [],
   "source": [
    "#q5.b.hint()\n",
    "#q5.b.solution()"
   ]
  },
  {
   "cell_type": "markdown",
   "id": "179ffa97",
   "metadata": {
    "papermill": {
     "duration": 0.03105,
     "end_time": "2022-02-21T20:17:44.516401",
     "exception": false,
     "start_time": "2022-02-21T20:17:44.485351",
     "status": "completed"
    },
    "tags": []
   },
   "source": [
    "# 5c.\n",
    "\n",
    "You know what to do: for the next function, fill in the body to match the English description in the docstring."
   ]
  },
  {
   "cell_type": "code",
   "execution_count": 17,
   "id": "62f97215",
   "metadata": {
    "execution": {
     "iopub.execute_input": "2022-02-21T20:17:44.581717Z",
     "iopub.status.busy": "2022-02-21T20:17:44.581198Z",
     "iopub.status.idle": "2022-02-21T20:17:44.587554Z",
     "shell.execute_reply": "2022-02-21T20:17:44.587974Z",
     "shell.execute_reply.started": "2022-02-13T21:43:59.162877Z"
    },
    "papermill": {
     "duration": 0.040217,
     "end_time": "2022-02-21T20:17:44.588081",
     "exception": false,
     "start_time": "2022-02-21T20:17:44.547864",
     "status": "completed"
    },
    "tags": []
   },
   "outputs": [
    {
     "data": {
      "application/javascript": [
       "parent.postMessage({\"jupyterEvent\": \"custom.exercise_interaction\", \"data\": {\"outcomeType\": 1, \"valueTowardsCompletion\": 0.2, \"interactionType\": 1, \"questionType\": 2, \"questionId\": \"5.3_OneSauce\", \"learnToolsVersion\": \"0.3.4\", \"failureMessage\": \"\", \"exceptionClass\": \"\", \"trace\": \"\"}}, \"*\")"
      ],
      "text/plain": [
       "<IPython.core.display.Javascript object>"
      ]
     },
     "metadata": {},
     "output_type": "display_data"
    },
    {
     "data": {
      "text/markdown": [
       "<span style=\"color:#33cc33\">Correct</span>"
      ],
      "text/plain": [
       "Correct"
      ]
     },
     "metadata": {},
     "output_type": "display_data"
    }
   ],
   "source": [
    "def exactly_one_sauce(ketchup, mustard, onion):\n",
    "    \"\"\"Return whether the customer wants either ketchup or mustard, but not both.\n",
    "    (You may be familiar with this operation under the name \"exclusive or\")\n",
    "    \"\"\"\n",
    "    return (ketchup and not mustard) or (mustard and not ketchup)\n",
    "\n",
    "# Check your answer\n",
    "q5.c.check()"
   ]
  },
  {
   "cell_type": "code",
   "execution_count": 18,
   "id": "93e6f8a2",
   "metadata": {
    "execution": {
     "iopub.execute_input": "2022-02-21T20:17:44.654248Z",
     "iopub.status.busy": "2022-02-21T20:17:44.653807Z",
     "iopub.status.idle": "2022-02-21T20:17:44.656694Z",
     "shell.execute_reply": "2022-02-21T20:17:44.657132Z"
    },
    "papermill": {
     "duration": 0.037219,
     "end_time": "2022-02-21T20:17:44.657239",
     "exception": false,
     "start_time": "2022-02-21T20:17:44.620020",
     "status": "completed"
    },
    "tags": []
   },
   "outputs": [],
   "source": [
    "#q5.c.hint()\n",
    "#q5.c.solution()"
   ]
  },
  {
   "cell_type": "markdown",
   "id": "7b2043a0",
   "metadata": {
    "papermill": {
     "duration": 0.031859,
     "end_time": "2022-02-21T20:17:44.720979",
     "exception": false,
     "start_time": "2022-02-21T20:17:44.689120",
     "status": "completed"
    },
    "tags": []
   },
   "source": [
    "# 6. <span title=\"A bit spicy\" style=\"color: darkgreen \">🌶️</span>\n",
    "\n",
    "We’ve seen that calling `bool()` on an integer returns `False` if it’s equal to 0 and `True` otherwise. What happens if we call `int()` on a bool? Try it out in the notebook cell below.\n",
    "\n",
    "Can you take advantage of this to write a succinct function that corresponds to the English sentence \"does the customer want exactly one topping?\"?"
   ]
  },
  {
   "cell_type": "code",
   "execution_count": 19,
   "id": "dd4f9ad9",
   "metadata": {
    "execution": {
     "iopub.execute_input": "2022-02-21T20:17:44.787802Z",
     "iopub.status.busy": "2022-02-21T20:17:44.787342Z",
     "iopub.status.idle": "2022-02-21T20:17:44.794042Z",
     "shell.execute_reply": "2022-02-21T20:17:44.794479Z",
     "shell.execute_reply.started": "2022-02-13T21:46:08.247520Z"
    },
    "papermill": {
     "duration": 0.041574,
     "end_time": "2022-02-21T20:17:44.794589",
     "exception": false,
     "start_time": "2022-02-21T20:17:44.753015",
     "status": "completed"
    },
    "tags": []
   },
   "outputs": [
    {
     "data": {
      "application/javascript": [
       "parent.postMessage({\"jupyterEvent\": \"custom.exercise_interaction\", \"data\": {\"outcomeType\": 1, \"valueTowardsCompletion\": 0.2, \"interactionType\": 1, \"questionType\": 2, \"questionId\": \"6_OneTopping\", \"learnToolsVersion\": \"0.3.4\", \"failureMessage\": \"\", \"exceptionClass\": \"\", \"trace\": \"\"}}, \"*\")"
      ],
      "text/plain": [
       "<IPython.core.display.Javascript object>"
      ]
     },
     "metadata": {},
     "output_type": "display_data"
    },
    {
     "data": {
      "text/markdown": [
       "<span style=\"color:#33cc33\">Correct:</span> \n",
       "\n",
       "This condition would be pretty complicated to express using just `and`, `or` and `not`, but using boolean-to-integer conversion gives us this short solution:\n",
       "```python\n",
       "return (int(ketchup) + int(mustard) + int(onion)) == 1\n",
       "```\n",
       "\n",
       "Fun fact: we don't technically need to call `int` on the arguments. Just by doing addition with booleans, Python implicitly does the integer conversion. So we could also write...\n",
       "\n",
       "```python\n",
       "return (ketchup + mustard + onion) == 1\n",
       "```"
      ],
      "text/plain": [
       "Correct: \n",
       "\n",
       "This condition would be pretty complicated to express using just `and`, `or` and `not`, but using boolean-to-integer conversion gives us this short solution:\n",
       "```python\n",
       "return (int(ketchup) + int(mustard) + int(onion)) == 1\n",
       "```\n",
       "\n",
       "Fun fact: we don't technically need to call `int` on the arguments. Just by doing addition with booleans, Python implicitly does the integer conversion. So we could also write...\n",
       "\n",
       "```python\n",
       "return (ketchup + mustard + onion) == 1\n",
       "```"
      ]
     },
     "metadata": {},
     "output_type": "display_data"
    }
   ],
   "source": [
    "def exactly_one_topping(ketchup, mustard, onion):\n",
    "    \"\"\"Return whether the customer wants exactly one of the three available toppings\n",
    "    on their hot dog.\n",
    "    \"\"\"\n",
    "    return (ketchup + mustard + onion) == 1\n",
    "\n",
    "# Check your answer\n",
    "q6.check()"
   ]
  },
  {
   "cell_type": "code",
   "execution_count": 20,
   "id": "21255be8",
   "metadata": {
    "execution": {
     "iopub.execute_input": "2022-02-21T20:17:44.862822Z",
     "iopub.status.busy": "2022-02-21T20:17:44.862350Z",
     "iopub.status.idle": "2022-02-21T20:17:44.864637Z",
     "shell.execute_reply": "2022-02-21T20:17:44.864991Z"
    },
    "papermill": {
     "duration": 0.037592,
     "end_time": "2022-02-21T20:17:44.865096",
     "exception": false,
     "start_time": "2022-02-21T20:17:44.827504",
     "status": "completed"
    },
    "tags": []
   },
   "outputs": [],
   "source": [
    "#q6.hint()\n",
    "#q6.solution()"
   ]
  },
  {
   "cell_type": "markdown",
   "id": "e24dbab0",
   "metadata": {
    "papermill": {
     "duration": 0.033344,
     "end_time": "2022-02-21T20:17:44.932010",
     "exception": false,
     "start_time": "2022-02-21T20:17:44.898666",
     "status": "completed"
    },
    "tags": []
   },
   "source": [
    "# Keep Going\n",
    "\n",
    "Learn about **[lists and tuples](https://www.kaggle.com/colinmorris/lists)** to handle multiple items of data in a systematic way."
   ]
  },
  {
   "cell_type": "markdown",
   "id": "feb7a31b",
   "metadata": {
    "papermill": {
     "duration": 0.033219,
     "end_time": "2022-02-21T20:17:44.998465",
     "exception": false,
     "start_time": "2022-02-21T20:17:44.965246",
     "status": "completed"
    },
    "tags": []
   },
   "source": [
    "---\n",
    "\n",
    "\n",
    "\n",
    "\n",
    "*Have questions or comments? Visit the [course discussion forum](https://www.kaggle.com/learn/python/discussion) to chat with other learners.*"
   ]
  }
 ],
 "metadata": {
  "kernelspec": {
   "display_name": "Python 3",
   "language": "python",
   "name": "python3"
  },
  "language_info": {
   "codemirror_mode": {
    "name": "ipython",
    "version": 3
   },
   "file_extension": ".py",
   "mimetype": "text/x-python",
   "name": "python",
   "nbconvert_exporter": "python",
   "pygments_lexer": "ipython3",
   "version": "3.7.12"
  },
  "papermill": {
   "default_parameters": {},
   "duration": 12.552589,
   "end_time": "2022-02-21T20:17:45.742418",
   "environment_variables": {},
   "exception": null,
   "input_path": "__notebook__.ipynb",
   "output_path": "__notebook__.ipynb",
   "parameters": {},
   "start_time": "2022-02-21T20:17:33.189829",
   "version": "2.3.3"
  }
 },
 "nbformat": 4,
 "nbformat_minor": 5
}
