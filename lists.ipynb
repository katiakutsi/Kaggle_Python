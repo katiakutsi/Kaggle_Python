{
 "cells": [
  {
   "cell_type": "markdown",
   "id": "3edd3c4f",
   "metadata": {
    "papermill": {
     "duration": 0.018826,
     "end_time": "2022-02-21T20:18:27.882098",
     "exception": false,
     "start_time": "2022-02-21T20:18:27.863272",
     "status": "completed"
    },
    "tags": []
   },
   "source": [
    "**This notebook is an exercise in the [Python](https://www.kaggle.com/learn/python) course.  You can reference the tutorial at [this link](https://www.kaggle.com/colinmorris/lists).**\n",
    "\n",
    "---\n"
   ]
  },
  {
   "cell_type": "markdown",
   "id": "20e615cf",
   "metadata": {
    "papermill": {
     "duration": 0.017112,
     "end_time": "2022-02-21T20:18:27.917173",
     "exception": false,
     "start_time": "2022-02-21T20:18:27.900061",
     "status": "completed"
    },
    "tags": []
   },
   "source": [
    "Things get more interesting with lists. You'll apply your new knowledge to solve the questions below. Remember to run the following cell first."
   ]
  },
  {
   "cell_type": "code",
   "execution_count": 1,
   "id": "9e85f2e5",
   "metadata": {
    "execution": {
     "iopub.execute_input": "2022-02-21T20:18:27.962480Z",
     "iopub.status.busy": "2022-02-21T20:18:27.961875Z",
     "iopub.status.idle": "2022-02-21T20:18:27.998953Z",
     "shell.execute_reply": "2022-02-21T20:18:27.999473Z",
     "shell.execute_reply.started": "2022-02-15T17:16:20.278502Z"
    },
    "papermill": {
     "duration": 0.065125,
     "end_time": "2022-02-21T20:18:27.999836",
     "exception": false,
     "start_time": "2022-02-21T20:18:27.934711",
     "status": "completed"
    },
    "tags": []
   },
   "outputs": [
    {
     "name": "stdout",
     "output_type": "stream",
     "text": [
      "Setup complete.\n"
     ]
    }
   ],
   "source": [
    "from learntools.core import binder; binder.bind(globals())\n",
    "from learntools.python.ex4 import *\n",
    "print('Setup complete.')"
   ]
  },
  {
   "cell_type": "markdown",
   "id": "1f0cd007",
   "metadata": {
    "papermill": {
     "duration": 0.017405,
     "end_time": "2022-02-21T20:18:28.035815",
     "exception": false,
     "start_time": "2022-02-21T20:18:28.018410",
     "status": "completed"
    },
    "tags": []
   },
   "source": [
    "# 1.\n",
    "\n",
    "Complete the function below according to its docstring."
   ]
  },
  {
   "cell_type": "code",
   "execution_count": 2,
   "id": "8f632996",
   "metadata": {
    "execution": {
     "iopub.execute_input": "2022-02-21T20:18:28.074517Z",
     "iopub.status.busy": "2022-02-21T20:18:28.073903Z",
     "iopub.status.idle": "2022-02-21T20:18:28.084737Z",
     "shell.execute_reply": "2022-02-21T20:18:28.085346Z",
     "shell.execute_reply.started": "2022-02-15T15:46:47.554247Z"
    },
    "papermill": {
     "duration": 0.03213,
     "end_time": "2022-02-21T20:18:28.085561",
     "exception": false,
     "start_time": "2022-02-21T20:18:28.053431",
     "status": "completed"
    },
    "tags": []
   },
   "outputs": [
    {
     "data": {
      "application/javascript": [
       "parent.postMessage({\"jupyterEvent\": \"custom.exercise_interaction\", \"data\": {\"outcomeType\": 1, \"valueTowardsCompletion\": 0.2, \"interactionType\": 1, \"questionType\": 2, \"questionId\": \"1_SelectSecondItem\", \"learnToolsVersion\": \"0.3.4\", \"failureMessage\": \"\", \"exceptionClass\": \"\", \"trace\": \"\"}}, \"*\")"
      ],
      "text/plain": [
       "<IPython.core.display.Javascript object>"
      ]
     },
     "metadata": {},
     "output_type": "display_data"
    },
    {
     "data": {
      "text/markdown": [
       "<span style=\"color:#33cc33\">Correct</span>"
      ],
      "text/plain": [
       "Correct"
      ]
     },
     "metadata": {},
     "output_type": "display_data"
    }
   ],
   "source": [
    "def select_second(L):\n",
    "    \"\"\"Return the second element of the given list. If the list has no second\n",
    "    element, return None.\n",
    "    \"\"\"\n",
    "    if len(L) > 2:\n",
    "        return L[1]\n",
    "    else:\n",
    "        return None\n",
    "\n",
    "# Check your answer\n",
    "q1.check()"
   ]
  },
  {
   "cell_type": "code",
   "execution_count": 3,
   "id": "2fee1873",
   "metadata": {
    "execution": {
     "iopub.execute_input": "2022-02-21T20:18:28.127789Z",
     "iopub.status.busy": "2022-02-21T20:18:28.127107Z",
     "iopub.status.idle": "2022-02-21T20:18:28.130143Z",
     "shell.execute_reply": "2022-02-21T20:18:28.130717Z",
     "shell.execute_reply.started": "2022-02-15T15:46:17.782566Z"
    },
    "papermill": {
     "duration": 0.02589,
     "end_time": "2022-02-21T20:18:28.130911",
     "exception": false,
     "start_time": "2022-02-21T20:18:28.105021",
     "status": "completed"
    },
    "tags": []
   },
   "outputs": [],
   "source": [
    "#q1.hint()\n",
    "#q1.solution()"
   ]
  },
  {
   "cell_type": "markdown",
   "id": "9c0f2a05",
   "metadata": {
    "papermill": {
     "duration": 0.018976,
     "end_time": "2022-02-21T20:18:28.169062",
     "exception": false,
     "start_time": "2022-02-21T20:18:28.150086",
     "status": "completed"
    },
    "tags": []
   },
   "source": [
    "# 2.\n",
    "\n",
    "You are analyzing sports teams.  Members of each team are stored in a list. The Coach is the first name in the list, the captain is the second name in the list, and other players are listed after that. \n",
    "These lists are stored in another list, which starts with the best team and proceeds through the list to the worst team last.  Complete the function below to select the **captain** of the worst team."
   ]
  },
  {
   "cell_type": "code",
   "execution_count": 4,
   "id": "9799b9a7",
   "metadata": {
    "execution": {
     "iopub.execute_input": "2022-02-21T20:18:28.213700Z",
     "iopub.status.busy": "2022-02-21T20:18:28.213044Z",
     "iopub.status.idle": "2022-02-21T20:18:28.216847Z",
     "shell.execute_reply": "2022-02-21T20:18:28.217419Z",
     "shell.execute_reply.started": "2022-02-15T15:58:59.217023Z"
    },
    "papermill": {
     "duration": 0.029535,
     "end_time": "2022-02-21T20:18:28.217610",
     "exception": false,
     "start_time": "2022-02-21T20:18:28.188075",
     "status": "completed"
    },
    "tags": []
   },
   "outputs": [
    {
     "data": {
      "application/javascript": [
       "parent.postMessage({\"jupyterEvent\": \"custom.exercise_interaction\", \"data\": {\"outcomeType\": 1, \"valueTowardsCompletion\": 0.2, \"interactionType\": 1, \"questionType\": 2, \"questionId\": \"2_LosingTeamCaptain\", \"learnToolsVersion\": \"0.3.4\", \"failureMessage\": \"\", \"exceptionClass\": \"\", \"trace\": \"\"}}, \"*\")"
      ],
      "text/plain": [
       "<IPython.core.display.Javascript object>"
      ]
     },
     "metadata": {},
     "output_type": "display_data"
    },
    {
     "data": {
      "text/markdown": [
       "<span style=\"color:#33cc33\">Correct</span>"
      ],
      "text/plain": [
       "Correct"
      ]
     },
     "metadata": {},
     "output_type": "display_data"
    }
   ],
   "source": [
    "def losing_team_captain(teams):\n",
    "    \"\"\"Given a list of teams, where each team is a list of names, return the 2nd player (captain)\n",
    "    from the last listed team\n",
    "    \"\"\"\n",
    "    return teams.pop()[1]\n",
    "\n",
    "# Check your answer\n",
    "q2.check()"
   ]
  },
  {
   "cell_type": "code",
   "execution_count": 5,
   "id": "730bc89f",
   "metadata": {
    "collapsed": true,
    "execution": {
     "iopub.execute_input": "2022-02-21T20:18:28.263618Z",
     "iopub.status.busy": "2022-02-21T20:18:28.262860Z",
     "iopub.status.idle": "2022-02-21T20:18:28.265720Z",
     "shell.execute_reply": "2022-02-21T20:18:28.265129Z"
    },
    "jupyter": {
     "outputs_hidden": true
    },
    "papermill": {
     "duration": 0.027859,
     "end_time": "2022-02-21T20:18:28.265887",
     "exception": false,
     "start_time": "2022-02-21T20:18:28.238028",
     "status": "completed"
    },
    "tags": []
   },
   "outputs": [],
   "source": [
    "#q2.hint()\n",
    "#q2.solution()"
   ]
  },
  {
   "cell_type": "markdown",
   "id": "a0d67204",
   "metadata": {
    "papermill": {
     "duration": 0.020496,
     "end_time": "2022-02-21T20:18:28.307478",
     "exception": false,
     "start_time": "2022-02-21T20:18:28.286982",
     "status": "completed"
    },
    "tags": []
   },
   "source": [
    "# 3.\n",
    "\n",
    "The next iteration of Mario Kart will feature an extra-infuriating new item, the *Purple Shell*. When used, it warps the last place racer into first place and the first place racer into last place. Complete the function below to implement the Purple Shell's effect."
   ]
  },
  {
   "cell_type": "code",
   "execution_count": 6,
   "id": "e6b9befb",
   "metadata": {
    "execution": {
     "iopub.execute_input": "2022-02-21T20:18:28.357623Z",
     "iopub.status.busy": "2022-02-21T20:18:28.356755Z",
     "iopub.status.idle": "2022-02-21T20:18:28.362015Z",
     "shell.execute_reply": "2022-02-21T20:18:28.361471Z",
     "shell.execute_reply.started": "2022-02-15T16:20:33.652842Z"
    },
    "papermill": {
     "duration": 0.033437,
     "end_time": "2022-02-21T20:18:28.362166",
     "exception": false,
     "start_time": "2022-02-21T20:18:28.328729",
     "status": "completed"
    },
    "tags": []
   },
   "outputs": [
    {
     "data": {
      "application/javascript": [
       "parent.postMessage({\"jupyterEvent\": \"custom.exercise_interaction\", \"data\": {\"outcomeType\": 1, \"valueTowardsCompletion\": 0.2, \"interactionType\": 1, \"questionType\": 2, \"questionId\": \"3_PurpleShell\", \"learnToolsVersion\": \"0.3.4\", \"failureMessage\": \"\", \"exceptionClass\": \"\", \"trace\": \"\"}}, \"*\")"
      ],
      "text/plain": [
       "<IPython.core.display.Javascript object>"
      ]
     },
     "metadata": {},
     "output_type": "display_data"
    },
    {
     "data": {
      "text/markdown": [
       "<span style=\"color:#33cc33\">Correct</span>"
      ],
      "text/plain": [
       "Correct"
      ]
     },
     "metadata": {},
     "output_type": "display_data"
    }
   ],
   "source": [
    "def purple_shell(racers):\n",
    "    \"\"\"Given a list of racers, set the first place racer (at the front of the list) to last\n",
    "    place and vice versa.\n",
    "    \n",
    "    >>> r = [\"Mario\", \"Bowser\", \"Luigi\"]\n",
    "    >>> purple_shell(r)\n",
    "    >>> r\n",
    "    [\"Luigi\", \"Bowser\", \"Mario\"]\n",
    "    \"\"\"\n",
    "    x = racers[0]\n",
    "    racers[0] = racers[-1]\n",
    "    racers[-1] = x\n",
    "\n",
    "# Check your answer\n",
    "q3.check()"
   ]
  },
  {
   "cell_type": "code",
   "execution_count": 7,
   "id": "124956f3",
   "metadata": {
    "execution": {
     "iopub.execute_input": "2022-02-21T20:18:28.413031Z",
     "iopub.status.busy": "2022-02-21T20:18:28.412356Z",
     "iopub.status.idle": "2022-02-21T20:18:28.414550Z",
     "shell.execute_reply": "2022-02-21T20:18:28.415145Z",
     "shell.execute_reply.started": "2022-02-15T16:17:58.869197Z"
    },
    "papermill": {
     "duration": 0.031329,
     "end_time": "2022-02-21T20:18:28.415329",
     "exception": false,
     "start_time": "2022-02-21T20:18:28.384000",
     "status": "completed"
    },
    "tags": []
   },
   "outputs": [],
   "source": [
    "#q3.hint()\n",
    "#q3.solution()"
   ]
  },
  {
   "cell_type": "markdown",
   "id": "4c60a824",
   "metadata": {
    "papermill": {
     "duration": 0.021064,
     "end_time": "2022-02-21T20:18:28.457994",
     "exception": false,
     "start_time": "2022-02-21T20:18:28.436930",
     "status": "completed"
    },
    "tags": []
   },
   "source": [
    "# 4.\n",
    "\n",
    "What are the lengths of the following lists? Fill in the variable `lengths` with your predictions. (Try to make a prediction for each list *without* just calling `len()` on it.)"
   ]
  },
  {
   "cell_type": "code",
   "execution_count": 8,
   "id": "c7f0942f",
   "metadata": {
    "execution": {
     "iopub.execute_input": "2022-02-21T20:18:28.508715Z",
     "iopub.status.busy": "2022-02-21T20:18:28.507883Z",
     "iopub.status.idle": "2022-02-21T20:18:28.513067Z",
     "shell.execute_reply": "2022-02-21T20:18:28.513582Z",
     "shell.execute_reply.started": "2022-02-15T16:24:43.905223Z"
    },
    "papermill": {
     "duration": 0.034276,
     "end_time": "2022-02-21T20:18:28.513771",
     "exception": false,
     "start_time": "2022-02-21T20:18:28.479495",
     "status": "completed"
    },
    "tags": []
   },
   "outputs": [
    {
     "data": {
      "application/javascript": [
       "parent.postMessage({\"jupyterEvent\": \"custom.exercise_interaction\", \"data\": {\"outcomeType\": 1, \"valueTowardsCompletion\": 0.2, \"interactionType\": 1, \"questionType\": 1, \"questionId\": \"4_UnderstandLen\", \"learnToolsVersion\": \"0.3.4\", \"failureMessage\": \"\", \"exceptionClass\": \"\", \"trace\": \"\"}}, \"*\")"
      ],
      "text/plain": [
       "<IPython.core.display.Javascript object>"
      ]
     },
     "metadata": {},
     "output_type": "display_data"
    },
    {
     "data": {
      "text/markdown": [
       "<span style=\"color:#33cc33\">Correct:</span> \n",
       "\n",
       "\n",
       "- a: There are three items in this list. Nothing tricky yet.\n",
       "- b: The list `[2, 3]` counts as a single item. It has one item before it. So we have 2 items in the list\n",
       "- c: The empty list has 0 items\n",
       "- d: The expression is the same as the list `[2, 3]`, which has length 2."
      ],
      "text/plain": [
       "Correct: \n",
       "\n",
       "\n",
       "- a: There are three items in this list. Nothing tricky yet.\n",
       "- b: The list `[2, 3]` counts as a single item. It has one item before it. So we have 2 items in the list\n",
       "- c: The empty list has 0 items\n",
       "- d: The expression is the same as the list `[2, 3]`, which has length 2."
      ]
     },
     "metadata": {},
     "output_type": "display_data"
    }
   ],
   "source": [
    "a = [1, 2, 3]\n",
    "b = [1, [2, 3]]\n",
    "c = []\n",
    "d = [1, 2, 3][1:]\n",
    "\n",
    "# Put your predictions in the list below. Lengths should contain 4 numbers, the\n",
    "# first being the length of a, the second being the length of b and so on.\n",
    "lengths = [3, 2, 0, 2]\n",
    "\n",
    "\n",
    "# Check your answer\n",
    "q4.check()"
   ]
  },
  {
   "cell_type": "code",
   "execution_count": 9,
   "id": "5e69ee3f",
   "metadata": {
    "collapsed": true,
    "execution": {
     "iopub.execute_input": "2022-02-21T20:18:28.565452Z",
     "iopub.status.busy": "2022-02-21T20:18:28.564494Z",
     "iopub.status.idle": "2022-02-21T20:18:28.567786Z",
     "shell.execute_reply": "2022-02-21T20:18:28.568357Z"
    },
    "jupyter": {
     "outputs_hidden": true
    },
    "papermill": {
     "duration": 0.031161,
     "end_time": "2022-02-21T20:18:28.568524",
     "exception": false,
     "start_time": "2022-02-21T20:18:28.537363",
     "status": "completed"
    },
    "tags": []
   },
   "outputs": [],
   "source": [
    "# line below provides some explanation\n",
    "#q4.solution()"
   ]
  },
  {
   "cell_type": "markdown",
   "id": "5d7fc3e3",
   "metadata": {
    "papermill": {
     "duration": 0.02267,
     "end_time": "2022-02-21T20:18:28.614134",
     "exception": false,
     "start_time": "2022-02-21T20:18:28.591464",
     "status": "completed"
    },
    "tags": []
   },
   "source": [
    "# 5. <span title=\"A bit spicy\" style=\"color: darkgreen \">🌶️</span>\n",
    "\n",
    "We're using lists to record people who attended our party and what order they arrived in. For example, the following list represents a party with 7 guests, in which Adela showed up first and Ford was the last to arrive:\n",
    "\n",
    "    party_attendees = ['Adela', 'Fleda', 'Owen', 'May', 'Mona', 'Gilbert', 'Ford']\n",
    "\n",
    "A guest is considered 'fashionably late' if they arrived after at least half of the party's guests. However, they must not be the very last guest (that's taking it too far). In the above example, Mona and Gilbert are the only guests who were fashionably late.\n",
    "\n",
    "Complete the function below which takes a list of party attendees as well as a person, and tells us whether that person is fashionably late."
   ]
  },
  {
   "cell_type": "code",
   "execution_count": 10,
   "id": "948f2a69",
   "metadata": {
    "execution": {
     "iopub.execute_input": "2022-02-21T20:18:28.666899Z",
     "iopub.status.busy": "2022-02-21T20:18:28.665957Z",
     "iopub.status.idle": "2022-02-21T20:18:28.675010Z",
     "shell.execute_reply": "2022-02-21T20:18:28.675614Z",
     "shell.execute_reply.started": "2022-02-15T17:29:17.482917Z"
    },
    "papermill": {
     "duration": 0.038412,
     "end_time": "2022-02-21T20:18:28.675791",
     "exception": false,
     "start_time": "2022-02-21T20:18:28.637379",
     "status": "completed"
    },
    "tags": []
   },
   "outputs": [
    {
     "data": {
      "application/javascript": [
       "parent.postMessage({\"jupyterEvent\": \"custom.exercise_interaction\", \"data\": {\"outcomeType\": 1, \"valueTowardsCompletion\": 0.2, \"interactionType\": 1, \"questionType\": 2, \"questionId\": \"5_FashionablyLate\", \"learnToolsVersion\": \"0.3.4\", \"failureMessage\": \"\", \"exceptionClass\": \"\", \"trace\": \"\"}}, \"*\")"
      ],
      "text/plain": [
       "<IPython.core.display.Javascript object>"
      ]
     },
     "metadata": {},
     "output_type": "display_data"
    },
    {
     "data": {
      "text/markdown": [
       "<span style=\"color:#33cc33\">Correct</span>"
      ],
      "text/plain": [
       "Correct"
      ]
     },
     "metadata": {},
     "output_type": "display_data"
    }
   ],
   "source": [
    "def fashionably_late(arrivals, name):\n",
    "    \"\"\"Given an ordered list of arrivals to the party and a name, return whether the guest with that\n",
    "    name was fashionably late.\n",
    "    \"\"\"\n",
    "    middle_index = (len(arrivals) +1) // 2\n",
    "    if name in arrivals[middle_index:-1]:\n",
    "        return True\n",
    "    else:\n",
    "        return False\n",
    "    \n",
    "\n",
    "# Check your answer\n",
    "q5.check()"
   ]
  },
  {
   "cell_type": "code",
   "execution_count": 11,
   "id": "1194bb17",
   "metadata": {
    "collapsed": true,
    "execution": {
     "iopub.execute_input": "2022-02-21T20:18:28.729577Z",
     "iopub.status.busy": "2022-02-21T20:18:28.728525Z",
     "iopub.status.idle": "2022-02-21T20:18:28.730832Z",
     "shell.execute_reply": "2022-02-21T20:18:28.731310Z"
    },
    "jupyter": {
     "outputs_hidden": true
    },
    "papermill": {
     "duration": 0.030791,
     "end_time": "2022-02-21T20:18:28.731471",
     "exception": false,
     "start_time": "2022-02-21T20:18:28.700680",
     "status": "completed"
    },
    "tags": []
   },
   "outputs": [],
   "source": [
    "#q5.hint()\n",
    "#q5.solution()"
   ]
  },
  {
   "cell_type": "markdown",
   "id": "952fe79b",
   "metadata": {
    "papermill": {
     "duration": 0.024907,
     "end_time": "2022-02-21T20:18:28.782334",
     "exception": false,
     "start_time": "2022-02-21T20:18:28.757427",
     "status": "completed"
    },
    "tags": []
   },
   "source": [
    "# Keep Going\n",
    "\n",
    "That's it for lists and tuples! Now you have the baseline knowledge to **[learn about loops](https://www.kaggle.com/colinmorris/loops-and-list-comprehensions)**, which is where lists and tuples get really interesting. "
   ]
  },
  {
   "cell_type": "markdown",
   "id": "2784a435",
   "metadata": {
    "papermill": {
     "duration": 0.025642,
     "end_time": "2022-02-21T20:18:28.831982",
     "exception": false,
     "start_time": "2022-02-21T20:18:28.806340",
     "status": "completed"
    },
    "tags": []
   },
   "source": [
    "---\n",
    "\n",
    "\n",
    "\n",
    "\n",
    "*Have questions or comments? Visit the [course discussion forum](https://www.kaggle.com/learn/python/discussion) to chat with other learners.*"
   ]
  }
 ],
 "metadata": {
  "kernelspec": {
   "display_name": "Python 3",
   "language": "python",
   "name": "python3"
  },
  "language_info": {
   "codemirror_mode": {
    "name": "ipython",
    "version": 3
   },
   "file_extension": ".py",
   "mimetype": "text/x-python",
   "name": "python",
   "nbconvert_exporter": "python",
   "pygments_lexer": "ipython3",
   "version": "3.7.12"
  },
  "papermill": {
   "default_parameters": {},
   "duration": 11.7766,
   "end_time": "2022-02-21T20:18:29.466558",
   "environment_variables": {},
   "exception": null,
   "input_path": "__notebook__.ipynb",
   "output_path": "__notebook__.ipynb",
   "parameters": {},
   "start_time": "2022-02-21T20:18:17.689958",
   "version": "2.3.3"
  }
 },
 "nbformat": 4,
 "nbformat_minor": 5
}
